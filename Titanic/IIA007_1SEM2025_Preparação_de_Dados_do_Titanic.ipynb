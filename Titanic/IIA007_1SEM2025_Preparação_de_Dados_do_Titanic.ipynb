{
  "cells": [
    {
      "cell_type": "markdown",
      "metadata": {
        "id": "1NMO3x18OZju"
      },
      "source": [
        "# **IIA007 (1SEM2025) Atividade Prática - Preparação de Dados do Titanic**\n",
        "\n",
        "## Disciplina: Inteligência Artificial e Aplicações - FATEC Ferraz de Vasconcelos\n",
        "### Professora: Ana Rosa C. Tonão\n",
        "#### Data:26/05/2025\n",
        "####Nome: Diego Farias, Kevin LOurenco e Weigless Camargo.\n"
      ]
    },
    {
      "cell_type": "code",
      "source": [
        "from google.colab import drive\n",
        "drive.mount('/content/Mydrive')"
      ],
      "metadata": {
        "id": "RNYxtKuNNIr-",
        "colab": {
          "base_uri": "https://localhost:8080/"
        },
        "outputId": "b09e47af-1ee1-433d-f15b-ed5782673bb8"
      },
      "execution_count": null,
      "outputs": [
        {
          "output_type": "stream",
          "name": "stdout",
          "text": [
            "Mounted at /content/Mydrive\n"
          ]
        }
      ]
    },
    {
      "cell_type": "markdown",
      "metadata": {
        "id": "yZDbmF5OBEJp"
      },
      "source": [
        "## **Descrição dos Dados**"
      ]
    },
    {
      "cell_type": "markdown",
      "metadata": {
        "id": "M8sYsy3_BGGl"
      },
      "source": [
        "O conjunto de dados do Titanic contém características individuais dos passageiros e sobre a viagem.\n",
        "\n",
        "Utilizando este conjunto de dados será possível criar um modelo de aprendizado de máquina que permitirá classificar os passageiros, entre os que sobreviveram e os que morreram naquela infeliz tragédia.\n",
        "\n",
        "Cada passageiro é descrito pelas variáveis listadas abaixo:"
      ]
    },
    {
      "cell_type": "markdown",
      "metadata": {
        "id": "mutjgX7wkc_K"
      },
      "source": [
        "![dados_titanic.png](data:image/png;base64,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)"
      ]
    },
    {
      "cell_type": "markdown",
      "metadata": {
        "id": "KVrcLMBuBzOa"
      },
      "source": [
        "pclass: classe do passageiro (1=primeira, 2=segunda, 3=terceira)\n",
        "\n",
        "cabin: cabine\n",
        "\n",
        "embarked: local em que o passageiro embarcou (C=Cherbourg, Q=Queenstown, S=Southamption)\n",
        "\n",
        "boat: bote salva-vidas\n",
        "\n",
        "*survived: sobreviveu (0=não, 1=sim)*\n",
        "\n",
        "### **Fonte:**\n",
        "https://hbiostat.org/data/repo/Ctitanic3.html\n"
      ]
    },
    {
      "cell_type": "markdown",
      "metadata": {
        "id": "fsiFYz0STeVz"
      },
      "source": [
        "# **Parte I**"
      ]
    },
    {
      "cell_type": "code",
      "execution_count": null,
      "metadata": {
        "id": "r5hLjA24OefG",
        "colab": {
          "base_uri": "https://localhost:8080/"
        },
        "outputId": "da08b0a1-bc1c-4577-f3c0-d922b91b95d6"
      },
      "outputs": [
        {
          "output_type": "stream",
          "name": "stdout",
          "text": [
            "Mounted at /content/MyDrive\n"
          ]
        }
      ],
      "source": [
        "from google.colab import drive\n",
        "drive.mount('/content/MyDrive')"
      ]
    },
    {
      "cell_type": "code",
      "execution_count": null,
      "metadata": {
        "id": "chBVAqSNO6l3"
      },
      "outputs": [],
      "source": [
        "import sys\n",
        "sys.path.append('/content/gdrive/MyDrive/MyDrive/titanic')"
      ]
    },
    {
      "cell_type": "markdown",
      "metadata": {
        "id": "MT-h0HTnO_yX"
      },
      "source": [
        "## **Importando as bibliotecas necessárias**"
      ]
    },
    {
      "cell_type": "code",
      "execution_count": null,
      "metadata": {
        "id": "GWbpM8yOO8QW"
      },
      "outputs": [],
      "source": [
        "import matplotlib.pyplot as plt\n",
        "import pandas as pd"
      ]
    },
    {
      "cell_type": "markdown",
      "metadata": {
        "id": "9HM7-7JFnxh7"
      },
      "source": [
        "# **Parte II - Tratando os dados de TREINO**"
      ]
    },
    {
      "cell_type": "markdown",
      "metadata": {
        "id": "NExIxY8CEM0Q"
      },
      "source": [
        "## **Carregando os dados de TREINO**"
      ]
    },
    {
      "cell_type": "code",
      "execution_count": null,
      "metadata": {
        "id": "wSNcZZ4dPE23"
      },
      "outputs": [],
      "source": [
        "# Carregando os dados do arquivo train.csv em um dataframe pandas\n",
        "\n",
        "# Arquivo train.csv: arquivo de texto separado por vírgula\n",
        "\n",
        "df_train = pd.read_csv('/content/MyDrive/MyDrive/titanic/train.csv')"
      ]
    },
    {
      "cell_type": "markdown",
      "metadata": {
        "id": "jkrsp5KMEqCv"
      },
      "source": [
        "## **Inspecionando o conjunto de dados de TREINO**"
      ]
    },
    {
      "cell_type": "code",
      "execution_count": null,
      "metadata": {
        "id": "6fxT_2NeFI0f",
        "colab": {
          "base_uri": "https://localhost:8080/",
          "height": 460
        },
        "outputId": "e3b373ee-6a62-4f0e-dfb4-de149685856d"
      },
      "outputs": [
        {
          "output_type": "execute_result",
          "data": {
            "text/plain": [
              "PassengerId      int64\n",
              "Survived         int64\n",
              "Pclass           int64\n",
              "Name            object\n",
              "Sex             object\n",
              "Age            float64\n",
              "SibSp            int64\n",
              "Parch            int64\n",
              "Ticket          object\n",
              "Fare           float64\n",
              "Cabin           object\n",
              "Embarked        object\n",
              "dtype: object"
            ],
            "text/html": [
              "<div>\n",
              "<style scoped>\n",
              "    .dataframe tbody tr th:only-of-type {\n",
              "        vertical-align: middle;\n",
              "    }\n",
              "\n",
              "    .dataframe tbody tr th {\n",
              "        vertical-align: top;\n",
              "    }\n",
              "\n",
              "    .dataframe thead th {\n",
              "        text-align: right;\n",
              "    }\n",
              "</style>\n",
              "<table border=\"1\" class=\"dataframe\">\n",
              "  <thead>\n",
              "    <tr style=\"text-align: right;\">\n",
              "      <th></th>\n",
              "      <th>0</th>\n",
              "    </tr>\n",
              "  </thead>\n",
              "  <tbody>\n",
              "    <tr>\n",
              "      <th>PassengerId</th>\n",
              "      <td>int64</td>\n",
              "    </tr>\n",
              "    <tr>\n",
              "      <th>Survived</th>\n",
              "      <td>int64</td>\n",
              "    </tr>\n",
              "    <tr>\n",
              "      <th>Pclass</th>\n",
              "      <td>int64</td>\n",
              "    </tr>\n",
              "    <tr>\n",
              "      <th>Name</th>\n",
              "      <td>object</td>\n",
              "    </tr>\n",
              "    <tr>\n",
              "      <th>Sex</th>\n",
              "      <td>object</td>\n",
              "    </tr>\n",
              "    <tr>\n",
              "      <th>Age</th>\n",
              "      <td>float64</td>\n",
              "    </tr>\n",
              "    <tr>\n",
              "      <th>SibSp</th>\n",
              "      <td>int64</td>\n",
              "    </tr>\n",
              "    <tr>\n",
              "      <th>Parch</th>\n",
              "      <td>int64</td>\n",
              "    </tr>\n",
              "    <tr>\n",
              "      <th>Ticket</th>\n",
              "      <td>object</td>\n",
              "    </tr>\n",
              "    <tr>\n",
              "      <th>Fare</th>\n",
              "      <td>float64</td>\n",
              "    </tr>\n",
              "    <tr>\n",
              "      <th>Cabin</th>\n",
              "      <td>object</td>\n",
              "    </tr>\n",
              "    <tr>\n",
              "      <th>Embarked</th>\n",
              "      <td>object</td>\n",
              "    </tr>\n",
              "  </tbody>\n",
              "</table>\n",
              "</div><br><label><b>dtype:</b> object</label>"
            ]
          },
          "metadata": {},
          "execution_count": 46
        }
      ],
      "source": [
        "# Apresentando os datatypes das colunas do conjunto de dados\n",
        "df_train.dtypes"
      ]
    },
    {
      "cell_type": "code",
      "execution_count": null,
      "metadata": {
        "id": "p_wGy9fVP3lG",
        "colab": {
          "base_uri": "https://localhost:8080/"
        },
        "outputId": "6e836cec-8c2a-4ab9-c0c1-500fc53417d8"
      },
      "outputs": [
        {
          "output_type": "execute_result",
          "data": {
            "text/plain": [
              "(891, 12)"
            ]
          },
          "metadata": {},
          "execution_count": 47
        }
      ],
      "source": [
        "# Usando o atributo .shape para apresentar o número de linhas e colunas\n",
        "df_train.shape"
      ]
    },
    {
      "cell_type": "code",
      "execution_count": null,
      "metadata": {
        "id": "2qYG-QRCFs52",
        "colab": {
          "base_uri": "https://localhost:8080/",
          "height": 300
        },
        "outputId": "5c428174-b8ef-4fd5-d40b-1b8f90c152e2"
      },
      "outputs": [
        {
          "output_type": "execute_result",
          "data": {
            "text/plain": [
              "       PassengerId    Survived      Pclass         Age       SibSp  \\\n",
              "count   891.000000  891.000000  891.000000  714.000000  891.000000   \n",
              "mean    446.000000    0.383838    2.308642   29.699118    0.523008   \n",
              "std     257.353842    0.486592    0.836071   14.526497    1.102743   \n",
              "min       1.000000    0.000000    1.000000    0.420000    0.000000   \n",
              "25%     223.500000    0.000000    2.000000   20.125000    0.000000   \n",
              "50%     446.000000    0.000000    3.000000   28.000000    0.000000   \n",
              "75%     668.500000    1.000000    3.000000   38.000000    1.000000   \n",
              "max     891.000000    1.000000    3.000000   80.000000    8.000000   \n",
              "\n",
              "            Parch        Fare  \n",
              "count  891.000000  891.000000  \n",
              "mean     0.381594   32.204208  \n",
              "std      0.806057   49.693429  \n",
              "min      0.000000    0.000000  \n",
              "25%      0.000000    7.910400  \n",
              "50%      0.000000   14.454200  \n",
              "75%      0.000000   31.000000  \n",
              "max      6.000000  512.329200  "
            ],
            "text/html": [
              "\n",
              "  <div id=\"df-31d29183-3951-4071-a691-31b34140cd47\" class=\"colab-df-container\">\n",
              "    <div>\n",
              "<style scoped>\n",
              "    .dataframe tbody tr th:only-of-type {\n",
              "        vertical-align: middle;\n",
              "    }\n",
              "\n",
              "    .dataframe tbody tr th {\n",
              "        vertical-align: top;\n",
              "    }\n",
              "\n",
              "    .dataframe thead th {\n",
              "        text-align: right;\n",
              "    }\n",
              "</style>\n",
              "<table border=\"1\" class=\"dataframe\">\n",
              "  <thead>\n",
              "    <tr style=\"text-align: right;\">\n",
              "      <th></th>\n",
              "      <th>PassengerId</th>\n",
              "      <th>Survived</th>\n",
              "      <th>Pclass</th>\n",
              "      <th>Age</th>\n",
              "      <th>SibSp</th>\n",
              "      <th>Parch</th>\n",
              "      <th>Fare</th>\n",
              "    </tr>\n",
              "  </thead>\n",
              "  <tbody>\n",
              "    <tr>\n",
              "      <th>count</th>\n",
              "      <td>891.000000</td>\n",
              "      <td>891.000000</td>\n",
              "      <td>891.000000</td>\n",
              "      <td>714.000000</td>\n",
              "      <td>891.000000</td>\n",
              "      <td>891.000000</td>\n",
              "      <td>891.000000</td>\n",
              "    </tr>\n",
              "    <tr>\n",
              "      <th>mean</th>\n",
              "      <td>446.000000</td>\n",
              "      <td>0.383838</td>\n",
              "      <td>2.308642</td>\n",
              "      <td>29.699118</td>\n",
              "      <td>0.523008</td>\n",
              "      <td>0.381594</td>\n",
              "      <td>32.204208</td>\n",
              "    </tr>\n",
              "    <tr>\n",
              "      <th>std</th>\n",
              "      <td>257.353842</td>\n",
              "      <td>0.486592</td>\n",
              "      <td>0.836071</td>\n",
              "      <td>14.526497</td>\n",
              "      <td>1.102743</td>\n",
              "      <td>0.806057</td>\n",
              "      <td>49.693429</td>\n",
              "    </tr>\n",
              "    <tr>\n",
              "      <th>min</th>\n",
              "      <td>1.000000</td>\n",
              "      <td>0.000000</td>\n",
              "      <td>1.000000</td>\n",
              "      <td>0.420000</td>\n",
              "      <td>0.000000</td>\n",
              "      <td>0.000000</td>\n",
              "      <td>0.000000</td>\n",
              "    </tr>\n",
              "    <tr>\n",
              "      <th>25%</th>\n",
              "      <td>223.500000</td>\n",
              "      <td>0.000000</td>\n",
              "      <td>2.000000</td>\n",
              "      <td>20.125000</td>\n",
              "      <td>0.000000</td>\n",
              "      <td>0.000000</td>\n",
              "      <td>7.910400</td>\n",
              "    </tr>\n",
              "    <tr>\n",
              "      <th>50%</th>\n",
              "      <td>446.000000</td>\n",
              "      <td>0.000000</td>\n",
              "      <td>3.000000</td>\n",
              "      <td>28.000000</td>\n",
              "      <td>0.000000</td>\n",
              "      <td>0.000000</td>\n",
              "      <td>14.454200</td>\n",
              "    </tr>\n",
              "    <tr>\n",
              "      <th>75%</th>\n",
              "      <td>668.500000</td>\n",
              "      <td>1.000000</td>\n",
              "      <td>3.000000</td>\n",
              "      <td>38.000000</td>\n",
              "      <td>1.000000</td>\n",
              "      <td>0.000000</td>\n",
              "      <td>31.000000</td>\n",
              "    </tr>\n",
              "    <tr>\n",
              "      <th>max</th>\n",
              "      <td>891.000000</td>\n",
              "      <td>1.000000</td>\n",
              "      <td>3.000000</td>\n",
              "      <td>80.000000</td>\n",
              "      <td>8.000000</td>\n",
              "      <td>6.000000</td>\n",
              "      <td>512.329200</td>\n",
              "    </tr>\n",
              "  </tbody>\n",
              "</table>\n",
              "</div>\n",
              "    <div class=\"colab-df-buttons\">\n",
              "\n",
              "  <div class=\"colab-df-container\">\n",
              "    <button class=\"colab-df-convert\" onclick=\"convertToInteractive('df-31d29183-3951-4071-a691-31b34140cd47')\"\n",
              "            title=\"Convert this dataframe to an interactive table.\"\n",
              "            style=\"display:none;\">\n",
              "\n",
              "  <svg xmlns=\"http://www.w3.org/2000/svg\" height=\"24px\" viewBox=\"0 -960 960 960\">\n",
              "    <path d=\"M120-120v-720h720v720H120Zm60-500h600v-160H180v160Zm220 220h160v-160H400v160Zm0 220h160v-160H400v160ZM180-400h160v-160H180v160Zm440 0h160v-160H620v160ZM180-180h160v-160H180v160Zm440 0h160v-160H620v160Z\"/>\n",
              "  </svg>\n",
              "    </button>\n",
              "\n",
              "  <style>\n",
              "    .colab-df-container {\n",
              "      display:flex;\n",
              "      gap: 12px;\n",
              "    }\n",
              "\n",
              "    .colab-df-convert {\n",
              "      background-color: #E8F0FE;\n",
              "      border: none;\n",
              "      border-radius: 50%;\n",
              "      cursor: pointer;\n",
              "      display: none;\n",
              "      fill: #1967D2;\n",
              "      height: 32px;\n",
              "      padding: 0 0 0 0;\n",
              "      width: 32px;\n",
              "    }\n",
              "\n",
              "    .colab-df-convert:hover {\n",
              "      background-color: #E2EBFA;\n",
              "      box-shadow: 0px 1px 2px rgba(60, 64, 67, 0.3), 0px 1px 3px 1px rgba(60, 64, 67, 0.15);\n",
              "      fill: #174EA6;\n",
              "    }\n",
              "\n",
              "    .colab-df-buttons div {\n",
              "      margin-bottom: 4px;\n",
              "    }\n",
              "\n",
              "    [theme=dark] .colab-df-convert {\n",
              "      background-color: #3B4455;\n",
              "      fill: #D2E3FC;\n",
              "    }\n",
              "\n",
              "    [theme=dark] .colab-df-convert:hover {\n",
              "      background-color: #434B5C;\n",
              "      box-shadow: 0px 1px 3px 1px rgba(0, 0, 0, 0.15);\n",
              "      filter: drop-shadow(0px 1px 2px rgba(0, 0, 0, 0.3));\n",
              "      fill: #FFFFFF;\n",
              "    }\n",
              "  </style>\n",
              "\n",
              "    <script>\n",
              "      const buttonEl =\n",
              "        document.querySelector('#df-31d29183-3951-4071-a691-31b34140cd47 button.colab-df-convert');\n",
              "      buttonEl.style.display =\n",
              "        google.colab.kernel.accessAllowed ? 'block' : 'none';\n",
              "\n",
              "      async function convertToInteractive(key) {\n",
              "        const element = document.querySelector('#df-31d29183-3951-4071-a691-31b34140cd47');\n",
              "        const dataTable =\n",
              "          await google.colab.kernel.invokeFunction('convertToInteractive',\n",
              "                                                    [key], {});\n",
              "        if (!dataTable) return;\n",
              "\n",
              "        const docLinkHtml = 'Like what you see? Visit the ' +\n",
              "          '<a target=\"_blank\" href=https://colab.research.google.com/notebooks/data_table.ipynb>data table notebook</a>'\n",
              "          + ' to learn more about interactive tables.';\n",
              "        element.innerHTML = '';\n",
              "        dataTable['output_type'] = 'display_data';\n",
              "        await google.colab.output.renderOutput(dataTable, element);\n",
              "        const docLink = document.createElement('div');\n",
              "        docLink.innerHTML = docLinkHtml;\n",
              "        element.appendChild(docLink);\n",
              "      }\n",
              "    </script>\n",
              "  </div>\n",
              "\n",
              "\n",
              "    <div id=\"df-594832df-0a9a-476a-99b2-0d7f35f7dd76\">\n",
              "      <button class=\"colab-df-quickchart\" onclick=\"quickchart('df-594832df-0a9a-476a-99b2-0d7f35f7dd76')\"\n",
              "                title=\"Suggest charts\"\n",
              "                style=\"display:none;\">\n",
              "\n",
              "<svg xmlns=\"http://www.w3.org/2000/svg\" height=\"24px\"viewBox=\"0 0 24 24\"\n",
              "     width=\"24px\">\n",
              "    <g>\n",
              "        <path d=\"M19 3H5c-1.1 0-2 .9-2 2v14c0 1.1.9 2 2 2h14c1.1 0 2-.9 2-2V5c0-1.1-.9-2-2-2zM9 17H7v-7h2v7zm4 0h-2V7h2v10zm4 0h-2v-4h2v4z\"/>\n",
              "    </g>\n",
              "</svg>\n",
              "      </button>\n",
              "\n",
              "<style>\n",
              "  .colab-df-quickchart {\n",
              "      --bg-color: #E8F0FE;\n",
              "      --fill-color: #1967D2;\n",
              "      --hover-bg-color: #E2EBFA;\n",
              "      --hover-fill-color: #174EA6;\n",
              "      --disabled-fill-color: #AAA;\n",
              "      --disabled-bg-color: #DDD;\n",
              "  }\n",
              "\n",
              "  [theme=dark] .colab-df-quickchart {\n",
              "      --bg-color: #3B4455;\n",
              "      --fill-color: #D2E3FC;\n",
              "      --hover-bg-color: #434B5C;\n",
              "      --hover-fill-color: #FFFFFF;\n",
              "      --disabled-bg-color: #3B4455;\n",
              "      --disabled-fill-color: #666;\n",
              "  }\n",
              "\n",
              "  .colab-df-quickchart {\n",
              "    background-color: var(--bg-color);\n",
              "    border: none;\n",
              "    border-radius: 50%;\n",
              "    cursor: pointer;\n",
              "    display: none;\n",
              "    fill: var(--fill-color);\n",
              "    height: 32px;\n",
              "    padding: 0;\n",
              "    width: 32px;\n",
              "  }\n",
              "\n",
              "  .colab-df-quickchart:hover {\n",
              "    background-color: var(--hover-bg-color);\n",
              "    box-shadow: 0 1px 2px rgba(60, 64, 67, 0.3), 0 1px 3px 1px rgba(60, 64, 67, 0.15);\n",
              "    fill: var(--button-hover-fill-color);\n",
              "  }\n",
              "\n",
              "  .colab-df-quickchart-complete:disabled,\n",
              "  .colab-df-quickchart-complete:disabled:hover {\n",
              "    background-color: var(--disabled-bg-color);\n",
              "    fill: var(--disabled-fill-color);\n",
              "    box-shadow: none;\n",
              "  }\n",
              "\n",
              "  .colab-df-spinner {\n",
              "    border: 2px solid var(--fill-color);\n",
              "    border-color: transparent;\n",
              "    border-bottom-color: var(--fill-color);\n",
              "    animation:\n",
              "      spin 1s steps(1) infinite;\n",
              "  }\n",
              "\n",
              "  @keyframes spin {\n",
              "    0% {\n",
              "      border-color: transparent;\n",
              "      border-bottom-color: var(--fill-color);\n",
              "      border-left-color: var(--fill-color);\n",
              "    }\n",
              "    20% {\n",
              "      border-color: transparent;\n",
              "      border-left-color: var(--fill-color);\n",
              "      border-top-color: var(--fill-color);\n",
              "    }\n",
              "    30% {\n",
              "      border-color: transparent;\n",
              "      border-left-color: var(--fill-color);\n",
              "      border-top-color: var(--fill-color);\n",
              "      border-right-color: var(--fill-color);\n",
              "    }\n",
              "    40% {\n",
              "      border-color: transparent;\n",
              "      border-right-color: var(--fill-color);\n",
              "      border-top-color: var(--fill-color);\n",
              "    }\n",
              "    60% {\n",
              "      border-color: transparent;\n",
              "      border-right-color: var(--fill-color);\n",
              "    }\n",
              "    80% {\n",
              "      border-color: transparent;\n",
              "      border-right-color: var(--fill-color);\n",
              "      border-bottom-color: var(--fill-color);\n",
              "    }\n",
              "    90% {\n",
              "      border-color: transparent;\n",
              "      border-bottom-color: var(--fill-color);\n",
              "    }\n",
              "  }\n",
              "</style>\n",
              "\n",
              "      <script>\n",
              "        async function quickchart(key) {\n",
              "          const quickchartButtonEl =\n",
              "            document.querySelector('#' + key + ' button');\n",
              "          quickchartButtonEl.disabled = true;  // To prevent multiple clicks.\n",
              "          quickchartButtonEl.classList.add('colab-df-spinner');\n",
              "          try {\n",
              "            const charts = await google.colab.kernel.invokeFunction(\n",
              "                'suggestCharts', [key], {});\n",
              "          } catch (error) {\n",
              "            console.error('Error during call to suggestCharts:', error);\n",
              "          }\n",
              "          quickchartButtonEl.classList.remove('colab-df-spinner');\n",
              "          quickchartButtonEl.classList.add('colab-df-quickchart-complete');\n",
              "        }\n",
              "        (() => {\n",
              "          let quickchartButtonEl =\n",
              "            document.querySelector('#df-594832df-0a9a-476a-99b2-0d7f35f7dd76 button');\n",
              "          quickchartButtonEl.style.display =\n",
              "            google.colab.kernel.accessAllowed ? 'block' : 'none';\n",
              "        })();\n",
              "      </script>\n",
              "    </div>\n",
              "\n",
              "    </div>\n",
              "  </div>\n"
            ],
            "application/vnd.google.colaboratory.intrinsic+json": {
              "type": "dataframe",
              "summary": "{\n  \"name\": \"df_train\",\n  \"rows\": 8,\n  \"fields\": [\n    {\n      \"column\": \"PassengerId\",\n      \"properties\": {\n        \"dtype\": \"number\",\n        \"std\": 320.8159711429856,\n        \"min\": 1.0,\n        \"max\": 891.0,\n        \"num_unique_values\": 6,\n        \"samples\": [\n          891.0,\n          446.0,\n          668.5\n        ],\n        \"semantic_type\": \"\",\n        \"description\": \"\"\n      }\n    },\n    {\n      \"column\": \"Survived\",\n      \"properties\": {\n        \"dtype\": \"number\",\n        \"std\": 314.8713661874558,\n        \"min\": 0.0,\n        \"max\": 891.0,\n        \"num_unique_values\": 5,\n        \"samples\": [\n          0.3838383838383838,\n          1.0,\n          0.4865924542648585\n        ],\n        \"semantic_type\": \"\",\n        \"description\": \"\"\n      }\n    },\n    {\n      \"column\": \"Pclass\",\n      \"properties\": {\n        \"dtype\": \"number\",\n        \"std\": 314.2523437079693,\n        \"min\": 0.8360712409770513,\n        \"max\": 891.0,\n        \"num_unique_values\": 6,\n        \"samples\": [\n          891.0,\n          2.308641975308642,\n          3.0\n        ],\n        \"semantic_type\": \"\",\n        \"description\": \"\"\n      }\n    },\n    {\n      \"column\": \"Age\",\n      \"properties\": {\n        \"dtype\": \"number\",\n        \"std\": 242.9056731818781,\n        \"min\": 0.42,\n        \"max\": 714.0,\n        \"num_unique_values\": 8,\n        \"samples\": [\n          29.69911764705882,\n          28.0,\n          714.0\n        ],\n        \"semantic_type\": \"\",\n        \"description\": \"\"\n      }\n    },\n    {\n      \"column\": \"SibSp\",\n      \"properties\": {\n        \"dtype\": \"number\",\n        \"std\": 314.4908277465442,\n        \"min\": 0.0,\n        \"max\": 891.0,\n        \"num_unique_values\": 6,\n        \"samples\": [\n          891.0,\n          0.5230078563411896,\n          8.0\n        ],\n        \"semantic_type\": \"\",\n        \"description\": \"\"\n      }\n    },\n    {\n      \"column\": \"Parch\",\n      \"properties\": {\n        \"dtype\": \"number\",\n        \"std\": 314.65971717879,\n        \"min\": 0.0,\n        \"max\": 891.0,\n        \"num_unique_values\": 5,\n        \"samples\": [\n          0.38159371492704824,\n          6.0,\n          0.8060572211299559\n        ],\n        \"semantic_type\": \"\",\n        \"description\": \"\"\n      }\n    },\n    {\n      \"column\": \"Fare\",\n      \"properties\": {\n        \"dtype\": \"number\",\n        \"std\": 330.6256632228577,\n        \"min\": 0.0,\n        \"max\": 891.0,\n        \"num_unique_values\": 8,\n        \"samples\": [\n          32.204207968574636,\n          14.4542,\n          891.0\n        ],\n        \"semantic_type\": \"\",\n        \"description\": \"\"\n      }\n    }\n  ]\n}"
            }
          },
          "metadata": {},
          "execution_count": 48
        }
      ],
      "source": [
        "# Estatísticas resumidas\n",
        "# O método .describe informa os dados somente de colunas numéricas\n",
        "\n",
        "df_train.describe()"
      ]
    },
    {
      "cell_type": "code",
      "execution_count": null,
      "metadata": {
        "id": "Nc3mMO1xP8rm",
        "colab": {
          "base_uri": "https://localhost:8080/",
          "height": 300
        },
        "outputId": "0d9a1194-4b89-40f6-9e2f-f33aafb6bff2"
      },
      "outputs": [
        {
          "output_type": "execute_result",
          "data": {
            "text/plain": [
              "       PassengerId    Survived\n",
              "count   891.000000  891.000000\n",
              "mean    446.000000    0.383838\n",
              "std     257.353842    0.486592\n",
              "min       1.000000    0.000000\n",
              "25%     223.500000    0.000000\n",
              "50%     446.000000    0.000000\n",
              "75%     668.500000    1.000000\n",
              "max     891.000000    1.000000"
            ],
            "text/html": [
              "\n",
              "  <div id=\"df-d3e36923-ecf7-40e0-bf6c-4d25d897a9c1\" class=\"colab-df-container\">\n",
              "    <div>\n",
              "<style scoped>\n",
              "    .dataframe tbody tr th:only-of-type {\n",
              "        vertical-align: middle;\n",
              "    }\n",
              "\n",
              "    .dataframe tbody tr th {\n",
              "        vertical-align: top;\n",
              "    }\n",
              "\n",
              "    .dataframe thead th {\n",
              "        text-align: right;\n",
              "    }\n",
              "</style>\n",
              "<table border=\"1\" class=\"dataframe\">\n",
              "  <thead>\n",
              "    <tr style=\"text-align: right;\">\n",
              "      <th></th>\n",
              "      <th>PassengerId</th>\n",
              "      <th>Survived</th>\n",
              "    </tr>\n",
              "  </thead>\n",
              "  <tbody>\n",
              "    <tr>\n",
              "      <th>count</th>\n",
              "      <td>891.000000</td>\n",
              "      <td>891.000000</td>\n",
              "    </tr>\n",
              "    <tr>\n",
              "      <th>mean</th>\n",
              "      <td>446.000000</td>\n",
              "      <td>0.383838</td>\n",
              "    </tr>\n",
              "    <tr>\n",
              "      <th>std</th>\n",
              "      <td>257.353842</td>\n",
              "      <td>0.486592</td>\n",
              "    </tr>\n",
              "    <tr>\n",
              "      <th>min</th>\n",
              "      <td>1.000000</td>\n",
              "      <td>0.000000</td>\n",
              "    </tr>\n",
              "    <tr>\n",
              "      <th>25%</th>\n",
              "      <td>223.500000</td>\n",
              "      <td>0.000000</td>\n",
              "    </tr>\n",
              "    <tr>\n",
              "      <th>50%</th>\n",
              "      <td>446.000000</td>\n",
              "      <td>0.000000</td>\n",
              "    </tr>\n",
              "    <tr>\n",
              "      <th>75%</th>\n",
              "      <td>668.500000</td>\n",
              "      <td>1.000000</td>\n",
              "    </tr>\n",
              "    <tr>\n",
              "      <th>max</th>\n",
              "      <td>891.000000</td>\n",
              "      <td>1.000000</td>\n",
              "    </tr>\n",
              "  </tbody>\n",
              "</table>\n",
              "</div>\n",
              "    <div class=\"colab-df-buttons\">\n",
              "\n",
              "  <div class=\"colab-df-container\">\n",
              "    <button class=\"colab-df-convert\" onclick=\"convertToInteractive('df-d3e36923-ecf7-40e0-bf6c-4d25d897a9c1')\"\n",
              "            title=\"Convert this dataframe to an interactive table.\"\n",
              "            style=\"display:none;\">\n",
              "\n",
              "  <svg xmlns=\"http://www.w3.org/2000/svg\" height=\"24px\" viewBox=\"0 -960 960 960\">\n",
              "    <path d=\"M120-120v-720h720v720H120Zm60-500h600v-160H180v160Zm220 220h160v-160H400v160Zm0 220h160v-160H400v160ZM180-400h160v-160H180v160Zm440 0h160v-160H620v160ZM180-180h160v-160H180v160Zm440 0h160v-160H620v160Z\"/>\n",
              "  </svg>\n",
              "    </button>\n",
              "\n",
              "  <style>\n",
              "    .colab-df-container {\n",
              "      display:flex;\n",
              "      gap: 12px;\n",
              "    }\n",
              "\n",
              "    .colab-df-convert {\n",
              "      background-color: #E8F0FE;\n",
              "      border: none;\n",
              "      border-radius: 50%;\n",
              "      cursor: pointer;\n",
              "      display: none;\n",
              "      fill: #1967D2;\n",
              "      height: 32px;\n",
              "      padding: 0 0 0 0;\n",
              "      width: 32px;\n",
              "    }\n",
              "\n",
              "    .colab-df-convert:hover {\n",
              "      background-color: #E2EBFA;\n",
              "      box-shadow: 0px 1px 2px rgba(60, 64, 67, 0.3), 0px 1px 3px 1px rgba(60, 64, 67, 0.15);\n",
              "      fill: #174EA6;\n",
              "    }\n",
              "\n",
              "    .colab-df-buttons div {\n",
              "      margin-bottom: 4px;\n",
              "    }\n",
              "\n",
              "    [theme=dark] .colab-df-convert {\n",
              "      background-color: #3B4455;\n",
              "      fill: #D2E3FC;\n",
              "    }\n",
              "\n",
              "    [theme=dark] .colab-df-convert:hover {\n",
              "      background-color: #434B5C;\n",
              "      box-shadow: 0px 1px 3px 1px rgba(0, 0, 0, 0.15);\n",
              "      filter: drop-shadow(0px 1px 2px rgba(0, 0, 0, 0.3));\n",
              "      fill: #FFFFFF;\n",
              "    }\n",
              "  </style>\n",
              "\n",
              "    <script>\n",
              "      const buttonEl =\n",
              "        document.querySelector('#df-d3e36923-ecf7-40e0-bf6c-4d25d897a9c1 button.colab-df-convert');\n",
              "      buttonEl.style.display =\n",
              "        google.colab.kernel.accessAllowed ? 'block' : 'none';\n",
              "\n",
              "      async function convertToInteractive(key) {\n",
              "        const element = document.querySelector('#df-d3e36923-ecf7-40e0-bf6c-4d25d897a9c1');\n",
              "        const dataTable =\n",
              "          await google.colab.kernel.invokeFunction('convertToInteractive',\n",
              "                                                    [key], {});\n",
              "        if (!dataTable) return;\n",
              "\n",
              "        const docLinkHtml = 'Like what you see? Visit the ' +\n",
              "          '<a target=\"_blank\" href=https://colab.research.google.com/notebooks/data_table.ipynb>data table notebook</a>'\n",
              "          + ' to learn more about interactive tables.';\n",
              "        element.innerHTML = '';\n",
              "        dataTable['output_type'] = 'display_data';\n",
              "        await google.colab.output.renderOutput(dataTable, element);\n",
              "        const docLink = document.createElement('div');\n",
              "        docLink.innerHTML = docLinkHtml;\n",
              "        element.appendChild(docLink);\n",
              "      }\n",
              "    </script>\n",
              "  </div>\n",
              "\n",
              "\n",
              "    <div id=\"df-ec47b24f-98af-430a-85f2-3b990e593498\">\n",
              "      <button class=\"colab-df-quickchart\" onclick=\"quickchart('df-ec47b24f-98af-430a-85f2-3b990e593498')\"\n",
              "                title=\"Suggest charts\"\n",
              "                style=\"display:none;\">\n",
              "\n",
              "<svg xmlns=\"http://www.w3.org/2000/svg\" height=\"24px\"viewBox=\"0 0 24 24\"\n",
              "     width=\"24px\">\n",
              "    <g>\n",
              "        <path d=\"M19 3H5c-1.1 0-2 .9-2 2v14c0 1.1.9 2 2 2h14c1.1 0 2-.9 2-2V5c0-1.1-.9-2-2-2zM9 17H7v-7h2v7zm4 0h-2V7h2v10zm4 0h-2v-4h2v4z\"/>\n",
              "    </g>\n",
              "</svg>\n",
              "      </button>\n",
              "\n",
              "<style>\n",
              "  .colab-df-quickchart {\n",
              "      --bg-color: #E8F0FE;\n",
              "      --fill-color: #1967D2;\n",
              "      --hover-bg-color: #E2EBFA;\n",
              "      --hover-fill-color: #174EA6;\n",
              "      --disabled-fill-color: #AAA;\n",
              "      --disabled-bg-color: #DDD;\n",
              "  }\n",
              "\n",
              "  [theme=dark] .colab-df-quickchart {\n",
              "      --bg-color: #3B4455;\n",
              "      --fill-color: #D2E3FC;\n",
              "      --hover-bg-color: #434B5C;\n",
              "      --hover-fill-color: #FFFFFF;\n",
              "      --disabled-bg-color: #3B4455;\n",
              "      --disabled-fill-color: #666;\n",
              "  }\n",
              "\n",
              "  .colab-df-quickchart {\n",
              "    background-color: var(--bg-color);\n",
              "    border: none;\n",
              "    border-radius: 50%;\n",
              "    cursor: pointer;\n",
              "    display: none;\n",
              "    fill: var(--fill-color);\n",
              "    height: 32px;\n",
              "    padding: 0;\n",
              "    width: 32px;\n",
              "  }\n",
              "\n",
              "  .colab-df-quickchart:hover {\n",
              "    background-color: var(--hover-bg-color);\n",
              "    box-shadow: 0 1px 2px rgba(60, 64, 67, 0.3), 0 1px 3px 1px rgba(60, 64, 67, 0.15);\n",
              "    fill: var(--button-hover-fill-color);\n",
              "  }\n",
              "\n",
              "  .colab-df-quickchart-complete:disabled,\n",
              "  .colab-df-quickchart-complete:disabled:hover {\n",
              "    background-color: var(--disabled-bg-color);\n",
              "    fill: var(--disabled-fill-color);\n",
              "    box-shadow: none;\n",
              "  }\n",
              "\n",
              "  .colab-df-spinner {\n",
              "    border: 2px solid var(--fill-color);\n",
              "    border-color: transparent;\n",
              "    border-bottom-color: var(--fill-color);\n",
              "    animation:\n",
              "      spin 1s steps(1) infinite;\n",
              "  }\n",
              "\n",
              "  @keyframes spin {\n",
              "    0% {\n",
              "      border-color: transparent;\n",
              "      border-bottom-color: var(--fill-color);\n",
              "      border-left-color: var(--fill-color);\n",
              "    }\n",
              "    20% {\n",
              "      border-color: transparent;\n",
              "      border-left-color: var(--fill-color);\n",
              "      border-top-color: var(--fill-color);\n",
              "    }\n",
              "    30% {\n",
              "      border-color: transparent;\n",
              "      border-left-color: var(--fill-color);\n",
              "      border-top-color: var(--fill-color);\n",
              "      border-right-color: var(--fill-color);\n",
              "    }\n",
              "    40% {\n",
              "      border-color: transparent;\n",
              "      border-right-color: var(--fill-color);\n",
              "      border-top-color: var(--fill-color);\n",
              "    }\n",
              "    60% {\n",
              "      border-color: transparent;\n",
              "      border-right-color: var(--fill-color);\n",
              "    }\n",
              "    80% {\n",
              "      border-color: transparent;\n",
              "      border-right-color: var(--fill-color);\n",
              "      border-bottom-color: var(--fill-color);\n",
              "    }\n",
              "    90% {\n",
              "      border-color: transparent;\n",
              "      border-bottom-color: var(--fill-color);\n",
              "    }\n",
              "  }\n",
              "</style>\n",
              "\n",
              "      <script>\n",
              "        async function quickchart(key) {\n",
              "          const quickchartButtonEl =\n",
              "            document.querySelector('#' + key + ' button');\n",
              "          quickchartButtonEl.disabled = true;  // To prevent multiple clicks.\n",
              "          quickchartButtonEl.classList.add('colab-df-spinner');\n",
              "          try {\n",
              "            const charts = await google.colab.kernel.invokeFunction(\n",
              "                'suggestCharts', [key], {});\n",
              "          } catch (error) {\n",
              "            console.error('Error during call to suggestCharts:', error);\n",
              "          }\n",
              "          quickchartButtonEl.classList.remove('colab-df-spinner');\n",
              "          quickchartButtonEl.classList.add('colab-df-quickchart-complete');\n",
              "        }\n",
              "        (() => {\n",
              "          let quickchartButtonEl =\n",
              "            document.querySelector('#df-ec47b24f-98af-430a-85f2-3b990e593498 button');\n",
              "          quickchartButtonEl.style.display =\n",
              "            google.colab.kernel.accessAllowed ? 'block' : 'none';\n",
              "        })();\n",
              "      </script>\n",
              "    </div>\n",
              "\n",
              "    </div>\n",
              "  </div>\n"
            ],
            "application/vnd.google.colaboratory.intrinsic+json": {
              "type": "dataframe",
              "summary": "{\n  \"name\": \"df_train\",\n  \"rows\": 8,\n  \"fields\": [\n    {\n      \"column\": \"PassengerId\",\n      \"properties\": {\n        \"dtype\": \"number\",\n        \"std\": 320.8159711429856,\n        \"min\": 1.0,\n        \"max\": 891.0,\n        \"num_unique_values\": 6,\n        \"samples\": [\n          891.0,\n          446.0,\n          668.5\n        ],\n        \"semantic_type\": \"\",\n        \"description\": \"\"\n      }\n    },\n    {\n      \"column\": \"Survived\",\n      \"properties\": {\n        \"dtype\": \"number\",\n        \"std\": 314.8713661874558,\n        \"min\": 0.0,\n        \"max\": 891.0,\n        \"num_unique_values\": 5,\n        \"samples\": [\n          0.3838383838383838,\n          1.0,\n          0.4865924542648585\n        ],\n        \"semantic_type\": \"\",\n        \"description\": \"\"\n      }\n    }\n  ]\n}"
            }
          },
          "metadata": {},
          "execution_count": 49
        }
      ],
      "source": [
        "# Truncando para apresentar somente as duas primeiras colunas numéricas\n",
        "df_train.describe().iloc[:, :2]"
      ]
    },
    {
      "cell_type": "markdown",
      "metadata": {
        "id": "kHlgajpHHNti"
      },
      "source": [
        "## **Limpeza dos dados**"
      ]
    },
    {
      "cell_type": "code",
      "execution_count": null,
      "metadata": {
        "id": "LVacRF4yQAgo",
        "colab": {
          "base_uri": "https://localhost:8080/",
          "height": 460
        },
        "outputId": "17e55de5-3f62-45e6-c80c-121f6ec6368d"
      },
      "outputs": [
        {
          "output_type": "execute_result",
          "data": {
            "text/plain": [
              "PassengerId      0\n",
              "Survived         0\n",
              "Pclass           0\n",
              "Name             0\n",
              "Sex              0\n",
              "Age            177\n",
              "SibSp            0\n",
              "Parch            0\n",
              "Ticket           0\n",
              "Fare             0\n",
              "Cabin          687\n",
              "Embarked         2\n",
              "dtype: int64"
            ],
            "text/html": [
              "<div>\n",
              "<style scoped>\n",
              "    .dataframe tbody tr th:only-of-type {\n",
              "        vertical-align: middle;\n",
              "    }\n",
              "\n",
              "    .dataframe tbody tr th {\n",
              "        vertical-align: top;\n",
              "    }\n",
              "\n",
              "    .dataframe thead th {\n",
              "        text-align: right;\n",
              "    }\n",
              "</style>\n",
              "<table border=\"1\" class=\"dataframe\">\n",
              "  <thead>\n",
              "    <tr style=\"text-align: right;\">\n",
              "      <th></th>\n",
              "      <th>0</th>\n",
              "    </tr>\n",
              "  </thead>\n",
              "  <tbody>\n",
              "    <tr>\n",
              "      <th>PassengerId</th>\n",
              "      <td>0</td>\n",
              "    </tr>\n",
              "    <tr>\n",
              "      <th>Survived</th>\n",
              "      <td>0</td>\n",
              "    </tr>\n",
              "    <tr>\n",
              "      <th>Pclass</th>\n",
              "      <td>0</td>\n",
              "    </tr>\n",
              "    <tr>\n",
              "      <th>Name</th>\n",
              "      <td>0</td>\n",
              "    </tr>\n",
              "    <tr>\n",
              "      <th>Sex</th>\n",
              "      <td>0</td>\n",
              "    </tr>\n",
              "    <tr>\n",
              "      <th>Age</th>\n",
              "      <td>177</td>\n",
              "    </tr>\n",
              "    <tr>\n",
              "      <th>SibSp</th>\n",
              "      <td>0</td>\n",
              "    </tr>\n",
              "    <tr>\n",
              "      <th>Parch</th>\n",
              "      <td>0</td>\n",
              "    </tr>\n",
              "    <tr>\n",
              "      <th>Ticket</th>\n",
              "      <td>0</td>\n",
              "    </tr>\n",
              "    <tr>\n",
              "      <th>Fare</th>\n",
              "      <td>0</td>\n",
              "    </tr>\n",
              "    <tr>\n",
              "      <th>Cabin</th>\n",
              "      <td>687</td>\n",
              "    </tr>\n",
              "    <tr>\n",
              "      <th>Embarked</th>\n",
              "      <td>2</td>\n",
              "    </tr>\n",
              "  </tbody>\n",
              "</table>\n",
              "</div><br><label><b>dtype:</b> int64</label>"
            ]
          },
          "metadata": {},
          "execution_count": 50
        }
      ],
      "source": [
        "# Apresentando o número de dados ausentes por coluna do conjunto de dados\n",
        "df_train.isnull().sum()"
      ]
    },
    {
      "cell_type": "markdown",
      "metadata": {
        "id": "Y1N8tkcmIjyv"
      },
      "source": [
        "Decida quais colunas parecem ser importantes para responder à pergunta:\n",
        "\n",
        "\n",
        "**O passageiro sobreviveu ou morreu?**\n",
        "\n",
        "\n",
        "\n",
        "---\n",
        "\n",
        "\n",
        "* Liste abaixo as colunas que em sua opinião deverão ser mantidas no modelo de regressão logística. Se possível inclua uma justificativa.\n",
        "\n",
        "       *nome_coluna*\n",
        "\n",
        "       *nome_coluna*\n",
        "\n",
        "       *....*\n",
        "\n",
        "\n",
        "* Verifique quais necessitam de limpeza e/ou tratamento de informações.\n",
        "\n",
        "\n"
      ]
    },
    {
      "cell_type": "code",
      "execution_count": null,
      "metadata": {
        "id": "B8T9p5fZQNqK",
        "colab": {
          "base_uri": "https://localhost:8080/",
          "height": 178
        },
        "outputId": "3feb1905-a48f-47a0-89d6-5508bb6e55b0"
      },
      "outputs": [
        {
          "output_type": "execute_result",
          "data": {
            "text/plain": [
              "Sex\n",
              "male      577\n",
              "female    314\n",
              "Name: count, dtype: int64"
            ],
            "text/html": [
              "<div>\n",
              "<style scoped>\n",
              "    .dataframe tbody tr th:only-of-type {\n",
              "        vertical-align: middle;\n",
              "    }\n",
              "\n",
              "    .dataframe tbody tr th {\n",
              "        vertical-align: top;\n",
              "    }\n",
              "\n",
              "    .dataframe thead th {\n",
              "        text-align: right;\n",
              "    }\n",
              "</style>\n",
              "<table border=\"1\" class=\"dataframe\">\n",
              "  <thead>\n",
              "    <tr style=\"text-align: right;\">\n",
              "      <th></th>\n",
              "      <th>count</th>\n",
              "    </tr>\n",
              "    <tr>\n",
              "      <th>Sex</th>\n",
              "      <th></th>\n",
              "    </tr>\n",
              "  </thead>\n",
              "  <tbody>\n",
              "    <tr>\n",
              "      <th>male</th>\n",
              "      <td>577</td>\n",
              "    </tr>\n",
              "    <tr>\n",
              "      <th>female</th>\n",
              "      <td>314</td>\n",
              "    </tr>\n",
              "  </tbody>\n",
              "</table>\n",
              "</div><br><label><b>dtype:</b> int64</label>"
            ]
          },
          "metadata": {},
          "execution_count": 51
        }
      ],
      "source": [
        "# Avaliando os valores das colunas tipo object.\n",
        "# As colunas tipo object podem conter categorias (dados tipo string com baixa cardinalidade), que são boas candidatas para label encoding (rotulagem).\n",
        "\n",
        "df_train.Sex.value_counts(dropna=False)"
      ]
    },
    {
      "cell_type": "code",
      "execution_count": null,
      "metadata": {
        "id": "8iOC4M7SQPqS",
        "colab": {
          "base_uri": "https://localhost:8080/",
          "height": 241
        },
        "outputId": "c26f2930-d460-4283-f4aa-7db1889e30b0"
      },
      "outputs": [
        {
          "output_type": "execute_result",
          "data": {
            "text/plain": [
              "Embarked\n",
              "S      644\n",
              "C      168\n",
              "Q       77\n",
              "NaN      2\n",
              "Name: count, dtype: int64"
            ],
            "text/html": [
              "<div>\n",
              "<style scoped>\n",
              "    .dataframe tbody tr th:only-of-type {\n",
              "        vertical-align: middle;\n",
              "    }\n",
              "\n",
              "    .dataframe tbody tr th {\n",
              "        vertical-align: top;\n",
              "    }\n",
              "\n",
              "    .dataframe thead th {\n",
              "        text-align: right;\n",
              "    }\n",
              "</style>\n",
              "<table border=\"1\" class=\"dataframe\">\n",
              "  <thead>\n",
              "    <tr style=\"text-align: right;\">\n",
              "      <th></th>\n",
              "      <th>count</th>\n",
              "    </tr>\n",
              "    <tr>\n",
              "      <th>Embarked</th>\n",
              "      <th></th>\n",
              "    </tr>\n",
              "  </thead>\n",
              "  <tbody>\n",
              "    <tr>\n",
              "      <th>S</th>\n",
              "      <td>644</td>\n",
              "    </tr>\n",
              "    <tr>\n",
              "      <th>C</th>\n",
              "      <td>168</td>\n",
              "    </tr>\n",
              "    <tr>\n",
              "      <th>Q</th>\n",
              "      <td>77</td>\n",
              "    </tr>\n",
              "    <tr>\n",
              "      <th>NaN</th>\n",
              "      <td>2</td>\n",
              "    </tr>\n",
              "  </tbody>\n",
              "</table>\n",
              "</div><br><label><b>dtype:</b> int64</label>"
            ]
          },
          "metadata": {},
          "execution_count": 52
        }
      ],
      "source": [
        "# Avaliando os valores das colunas tipo object.\n",
        "# As colunas tipo object podem conter categorias (dados tipo string com baixa cardinalidade), que são boas candidatas para label encoding (rotulagem).\n",
        "\n",
        "df_train.Embarked.value_counts(dropna=False)"
      ]
    },
    {
      "cell_type": "code",
      "execution_count": null,
      "metadata": {
        "id": "o7YrI6FUQSKp",
        "colab": {
          "base_uri": "https://localhost:8080/",
          "height": 178
        },
        "outputId": "e4d76ffd-2b4b-45df-8823-2fad2eac0dee"
      },
      "outputs": [
        {
          "output_type": "execute_result",
          "data": {
            "text/plain": [
              "0                              Braund, Mr. Owen Harris\n",
              "1    Cumings, Mrs. John Bradley (Florence Briggs Th...\n",
              "2                               Heikkinen, Miss. Laina\n",
              "Name: Name, dtype: object"
            ],
            "text/html": [
              "<div>\n",
              "<style scoped>\n",
              "    .dataframe tbody tr th:only-of-type {\n",
              "        vertical-align: middle;\n",
              "    }\n",
              "\n",
              "    .dataframe tbody tr th {\n",
              "        vertical-align: top;\n",
              "    }\n",
              "\n",
              "    .dataframe thead th {\n",
              "        text-align: right;\n",
              "    }\n",
              "</style>\n",
              "<table border=\"1\" class=\"dataframe\">\n",
              "  <thead>\n",
              "    <tr style=\"text-align: right;\">\n",
              "      <th></th>\n",
              "      <th>Name</th>\n",
              "    </tr>\n",
              "  </thead>\n",
              "  <tbody>\n",
              "    <tr>\n",
              "      <th>0</th>\n",
              "      <td>Braund, Mr. Owen Harris</td>\n",
              "    </tr>\n",
              "    <tr>\n",
              "      <th>1</th>\n",
              "      <td>Cumings, Mrs. John Bradley (Florence Briggs Th...</td>\n",
              "    </tr>\n",
              "    <tr>\n",
              "      <th>2</th>\n",
              "      <td>Heikkinen, Miss. Laina</td>\n",
              "    </tr>\n",
              "  </tbody>\n",
              "</table>\n",
              "</div><br><label><b>dtype:</b> object</label>"
            ]
          },
          "metadata": {},
          "execution_count": 53
        }
      ],
      "source": [
        "# Identifique colunas que não apresentem nenhuma variação ou sinal, ou seja, que não estão fornecendo informações importantes para o modelo.\n",
        "\n",
        "name = df_train.Name\n",
        "name.head(3)"
      ]
    },
    {
      "cell_type": "code",
      "execution_count": null,
      "metadata": {
        "id": "vSfnP5vOQW9N"
      },
      "outputs": [],
      "source": [
        "# Elimine colunas deste tipo que você encontrar no conjunto de dados.\n",
        "df_train = df_train.drop(\n",
        "    columns=[\n",
        "        \"PassengerId\",\n",
        "        \"Name\",\n",
        "        \"Ticket\",\n",
        "        \"Cabin\",\n",
        "        \"Embarked\"\n",
        "    ]\n",
        ")"
      ]
    },
    {
      "cell_type": "code",
      "execution_count": null,
      "metadata": {
        "id": "b6GQlgrZWLha",
        "colab": {
          "base_uri": "https://localhost:8080/",
          "height": 304
        },
        "outputId": "6f7b6f21-d94c-4321-9c24-9662304aa7c3"
      },
      "outputs": [
        {
          "output_type": "execute_result",
          "data": {
            "text/plain": [
              "Survived      int64\n",
              "Pclass        int64\n",
              "Sex          object\n",
              "Age         float64\n",
              "SibSp         int64\n",
              "Parch         int64\n",
              "Fare        float64\n",
              "dtype: object"
            ],
            "text/html": [
              "<div>\n",
              "<style scoped>\n",
              "    .dataframe tbody tr th:only-of-type {\n",
              "        vertical-align: middle;\n",
              "    }\n",
              "\n",
              "    .dataframe tbody tr th {\n",
              "        vertical-align: top;\n",
              "    }\n",
              "\n",
              "    .dataframe thead th {\n",
              "        text-align: right;\n",
              "    }\n",
              "</style>\n",
              "<table border=\"1\" class=\"dataframe\">\n",
              "  <thead>\n",
              "    <tr style=\"text-align: right;\">\n",
              "      <th></th>\n",
              "      <th>0</th>\n",
              "    </tr>\n",
              "  </thead>\n",
              "  <tbody>\n",
              "    <tr>\n",
              "      <th>Survived</th>\n",
              "      <td>int64</td>\n",
              "    </tr>\n",
              "    <tr>\n",
              "      <th>Pclass</th>\n",
              "      <td>int64</td>\n",
              "    </tr>\n",
              "    <tr>\n",
              "      <th>Sex</th>\n",
              "      <td>object</td>\n",
              "    </tr>\n",
              "    <tr>\n",
              "      <th>Age</th>\n",
              "      <td>float64</td>\n",
              "    </tr>\n",
              "    <tr>\n",
              "      <th>SibSp</th>\n",
              "      <td>int64</td>\n",
              "    </tr>\n",
              "    <tr>\n",
              "      <th>Parch</th>\n",
              "      <td>int64</td>\n",
              "    </tr>\n",
              "    <tr>\n",
              "      <th>Fare</th>\n",
              "      <td>float64</td>\n",
              "    </tr>\n",
              "  </tbody>\n",
              "</table>\n",
              "</div><br><label><b>dtype:</b> object</label>"
            ]
          },
          "metadata": {},
          "execution_count": 55
        }
      ],
      "source": [
        "df_train.dtypes"
      ]
    },
    {
      "cell_type": "code",
      "execution_count": null,
      "metadata": {
        "id": "h0QA8tL9QbOY"
      },
      "outputs": [],
      "source": [
        "# Crie colunas dummy a partir de colunas de string\n",
        "df_train = pd.get_dummies(df_train)"
      ]
    },
    {
      "cell_type": "code",
      "execution_count": null,
      "metadata": {
        "id": "FWNiWKfEQdHk",
        "colab": {
          "base_uri": "https://localhost:8080/"
        },
        "outputId": "fea24ed3-eb3d-4008-bf38-d44dc33eb24d"
      },
      "outputs": [
        {
          "output_type": "execute_result",
          "data": {
            "text/plain": [
              "Index(['Survived', 'Pclass', 'Age', 'SibSp', 'Parch', 'Fare', 'Sex_female',\n",
              "       'Sex_male'],\n",
              "      dtype='object')"
            ]
          },
          "metadata": {},
          "execution_count": 57
        }
      ],
      "source": [
        "df_train.columns"
      ]
    },
    {
      "cell_type": "code",
      "execution_count": null,
      "metadata": {
        "id": "7L0LciDtQfWx"
      },
      "outputs": [],
      "source": [
        "# Remova colunas altamente correlacionadas para resolver o problema de multicolinearidade.\n",
        "df_train = df_train.drop(columns=\"Sex_male\")"
      ]
    },
    {
      "cell_type": "code",
      "execution_count": null,
      "metadata": {
        "id": "9Qw2ovgIQhv2",
        "colab": {
          "base_uri": "https://localhost:8080/",
          "height": 176
        },
        "outputId": "7ff6e5ab-d98b-4ab4-8e4b-77d33fdd352c"
      },
      "outputs": [
        {
          "output_type": "error",
          "ename": "NameError",
          "evalue": "name 'df' is not defined",
          "traceback": [
            "\u001b[0;31m---------------------------------------------------------------------------\u001b[0m",
            "\u001b[0;31mNameError\u001b[0m                                 Traceback (most recent call last)",
            "\u001b[0;32m<ipython-input-59-399520521>\u001b[0m in \u001b[0;36m<cell line: 0>\u001b[0;34m()\u001b[0m\n\u001b[1;32m      1\u001b[0m \u001b[0;31m## Se executar as de cima, não executar esta\u001b[0m\u001b[0;34m\u001b[0m\u001b[0;34m\u001b[0m\u001b[0m\n\u001b[1;32m      2\u001b[0m \u001b[0;31m# Crie colunas dummy a partir de colunas de string, realizando os dois passos acima com um só código\u001b[0m\u001b[0;34m\u001b[0m\u001b[0;34m\u001b[0m\u001b[0m\n\u001b[0;32m----> 3\u001b[0;31m \u001b[0mdf_train\u001b[0m \u001b[0;34m=\u001b[0m \u001b[0mpd\u001b[0m\u001b[0;34m.\u001b[0m\u001b[0mget_dummies\u001b[0m\u001b[0;34m(\u001b[0m\u001b[0mdf\u001b[0m\u001b[0;34m,\u001b[0m \u001b[0mdrop_first\u001b[0m\u001b[0;34m=\u001b[0m\u001b[0;32mTrue\u001b[0m\u001b[0;34m)\u001b[0m\u001b[0;34m\u001b[0m\u001b[0;34m\u001b[0m\u001b[0m\n\u001b[0m",
            "\u001b[0;31mNameError\u001b[0m: name 'df' is not defined"
          ]
        }
      ],
      "source": [
        "## Se executar as de cima, não executar esta\n",
        "# Crie colunas dummy a partir de colunas de string, realizando os dois passos acima com um só código\n",
        "df_train = pd.get_dummies(df, drop_first=True)"
      ]
    },
    {
      "cell_type": "code",
      "execution_count": null,
      "metadata": {
        "id": "oMzcwB20QjsX"
      },
      "outputs": [],
      "source": [
        "df_train.columns"
      ]
    },
    {
      "cell_type": "markdown",
      "metadata": {
        "id": "A29-2FyOn5O5"
      },
      "source": [
        "# **Parte III - Tratando os dados de TESTE**"
      ]
    },
    {
      "cell_type": "markdown",
      "metadata": {
        "id": "9wqOslEhnGyi"
      },
      "source": [
        "## **Carregando os dados de TESTE**"
      ]
    },
    {
      "cell_type": "code",
      "execution_count": null,
      "metadata": {
        "id": "CVDEeEsonJde"
      },
      "outputs": [],
      "source": [
        "df_test = pd.read_csv('/content/MyDrive/MyDrive/titanic/test.csv')"
      ]
    },
    {
      "cell_type": "markdown",
      "metadata": {
        "id": "wKLS_6nnnJ-G"
      },
      "source": [
        "## **Inspecionando o conjunto de dados de TESTE**"
      ]
    },
    {
      "cell_type": "code",
      "source": [
        "df_train.dtypes"
      ],
      "metadata": {
        "id": "8H8VrtvySBaz"
      },
      "execution_count": null,
      "outputs": []
    },
    {
      "cell_type": "markdown",
      "metadata": {
        "id": "U5BqLU4QavGk"
      },
      "source": [
        "## **Grave os DataFrames tratados com novos nomes**"
      ]
    },
    {
      "cell_type": "code",
      "execution_count": null,
      "metadata": {
        "id": "U4WvwO_Aawcs"
      },
      "outputs": [],
      "source": [
        "# Gravando o dataframe de TREINO tratado, em formato CSV)\n",
        "\n",
        "df_train.to_csv('/content/MyDrive/MyDrive/titanic/train_final.csv')"
      ]
    },
    {
      "cell_type": "code",
      "execution_count": null,
      "metadata": {
        "id": "XxswHbnzazR-"
      },
      "outputs": [],
      "source": [
        "# Gravando o dataframe de TESTE tratado, em formato CSV)\n",
        "df_test.to_csv('/content/MyDrive/MyDrive/titanic/test_final.csv')"
      ]
    },
    {
      "cell_type": "code",
      "source": [],
      "metadata": {
        "id": "0XSvJM5XSefz"
      },
      "execution_count": null,
      "outputs": []
    },
    {
      "cell_type": "markdown",
      "metadata": {
        "id": "OuitGjU8a1w_"
      },
      "source": [
        "## ***FIM***"
      ]
    }
  ],
  "metadata": {
    "colab": {
      "provenance": []
    },
    "kernelspec": {
      "display_name": "Python 3",
      "name": "python3"
    },
    "language_info": {
      "name": "python"
    }
  },
  "nbformat": 4,
  "nbformat_minor": 0
}