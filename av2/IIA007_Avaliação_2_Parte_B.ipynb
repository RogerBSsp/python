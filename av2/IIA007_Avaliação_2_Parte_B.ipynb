{
 "cells": [
  {
   "cell_type": "markdown",
   "id": "3bf21e1f",
   "metadata": {},
   "source": [
    "# **IIA007 1sem2025 - Atividade Avaliativa 2**\n",
    "# **Parte B**\n",
    "\n",
    "## Disciplina: Inteligência Artificial e Aplicações\n",
    "## FATEC Ferraz de Vasconcelos\n",
    "### Professora: Ana Rosa C. Tonão\n",
    "#### Data: 30/06/2025\n",
    "\n",
    "\n",
    "-----------------------"
   ]
  },
  {
   "cell_type": "markdown",
   "id": "de94faf7",
   "metadata": {},
   "source": [
    "### **Instruções importantes:**\n",
    "\n",
    "(1) Esta atividade avaliativa deve ser realizada em **grupos de 5 integrantes (máximo)**.\n",
    "\n",
    "(2) **Informe seu(s) nome(s) completo(s) na tabela abaixo:**\n",
    "\n",
    "\n",
    "\n",
    "| Alunos(as) | \n",
    "| ----------- | \n",
    "| Nome: ______________________________________________________________| \n",
    "| Nome: ______________________________________________________________| \n",
    "| Nome: ______________________________________________________________| \n",
    "| Nome: ______________________________________________________________| \n",
    "| Nome: ______________________________________________________________| \n",
    "\n",
    "\n",
    "(3) **Somente um integrante deve realizar a entrega no Teams.**\n",
    "\n",
    "(4) O notebook final deve apresentar os códigos e suas saídas (após a execução de cada célula).\n",
    "\n",
    "(5) Utilize os arquivos \"credit_train.csv\" e \"credit_test.csv\" gerados na parte A desta atividade, como conjuntos de treino e teste, respectivamente.\n",
    "\n",
    "\n",
    "----"
   ]
  },
  {
   "cell_type": "markdown",
   "id": "8df85d60",
   "metadata": {},
   "source": [
    "## **Descrição dos Dados**"
   ]
  },
  {
   "cell_type": "markdown",
   "id": "7701ac83",
   "metadata": {},
   "source": [
    "O conjunto de dados original contém 1.000 entradas com 20 atributos categóricos/simbólicos.\n",
    "\n",
    "Neste conjunto de dados, cada entrada representa uma pessoa que obtém crédito de um banco. \n",
    "\n",
    "Cada pessoa é classificada como tendo bom ou mau risco de crédito, de acordo com o conjunto de atributos. \n",
    "\n",
    "\n",
    "Os atributos selecionados são:\n",
    "\n",
    "*   Age - numeric: in years.\n",
    "\n",
    "*   Sex - text: male, female.\n",
    "\n",
    "*   Job (emprego) - numeric: \n",
    "\n",
    "        0 - unskilled and non-resident (não qualificado e não residente)\n",
    "        1 - unskilled and resident (não qualificado e residente) \n",
    "        2 - skilled (qualificado)  \n",
    "        3 - highly skilled (altamente qualificado)\n",
    "\n",
    "*   Housing (residência) - text:\n",
    "\n",
    "        own (própria) \n",
    "        rent (alugada) \n",
    "        free (gratuita)\n",
    "\n",
    "*   Saving accounts (montante em contas poupança) - text:\n",
    "\n",
    "        little (pouco) \n",
    "        moderate (moderado)  \n",
    "        quite rich (muito alto)\n",
    "        rich (alto)\n",
    "\n",
    "*   Checking account (montante em conta-corrente) - text:\n",
    "\n",
    "        little (pouco) \n",
    "        moderate (moderado)  \n",
    "        quite rich (muito alto)\n",
    "        rich (alto)\n",
    "\n",
    "*   Credit amount (valor do crédito) - numeric, in US$.\n",
    "\n",
    "*   Duration (duração do empréstimo) - numeric, in month.\n",
    "\n",
    "*   Purpose (objetivo do empréstimo) - text:\n",
    "\n",
    "        car   \n",
    "        furniture/equipment \n",
    "        radio/TV \n",
    "        domestic appliances \n",
    "        repairs \n",
    "        education \n",
    "        business \n",
    "        vacation/others\n",
    "\n",
    "\n",
    "*   **Risk (risco) - value target:** Good or Bad Risk"
   ]
  },
  {
   "cell_type": "markdown",
   "id": "b5490291",
   "metadata": {},
   "source": [
    "## **Importando as bibliotecas necessárias**"
   ]
  },
  {
   "cell_type": "code",
   "execution_count": 4,
   "id": "88e16eac",
   "metadata": {},
   "outputs": [],
   "source": [
    "import pandas as pd\n",
    "from sklearn.model_selection import train_test_split\n",
    "from sklearn.preprocessing import LabelEncoder, StandardScaler, OneHotEncoder\n",
    "from sklearn.compose import ColumnTransformer\n",
    "from sklearn.pipeline import Pipeline\n",
    "from sklearn.linear_model import LogisticRegression\n",
    "from sklearn.naive_bayes import GaussianNB\n",
    "from sklearn.svm import SVC\n",
    "from sklearn.metrics import accuracy_score, precision_score, recall_score, f1_score, confusion_matrix, classification_report, roc_curve, auc\n",
    "import matplotlib.pyplot as plt\n",
    "import seaborn as sns"
   ]
  },
  {
   "cell_type": "markdown",
   "id": "3aea8893",
   "metadata": {},
   "source": [
    "## **Carregando os conjuntos de dados**\n",
    "\n",
    "## *TREINO*"
   ]
  },
  {
   "cell_type": "code",
   "execution_count": 5,
   "id": "ca1f53b0",
   "metadata": {},
   "outputs": [
    {
     "name": "stdout",
     "output_type": "stream",
     "text": [
      "Conjunto de dados de treino carregado com sucesso!\n",
      "Dimensões do DataFrame de treino: (700, 22)\n",
      "\n",
      "Primeiras 5 linhas do conjunto de treino:\n",
      "        Age  Credit amount  Duration  Sex_male  Job_1  Job_2  Job_3  \\\n",
      "0  0.200000       0.232365  0.470588       1.0    0.0    1.0    0.0   \n",
      "1  0.472727       0.086882  0.161765       1.0    0.0    1.0    0.0   \n",
      "2  0.127273       0.394410  0.823529       1.0    1.0    0.0    0.0   \n",
      "3  0.127273       0.051447  0.117647       0.0    0.0    1.0    0.0   \n",
      "4  0.127273       0.054308  0.029412       0.0    0.0    1.0    0.0   \n",
      "\n",
      "   Housing_own  Housing_rent  Saving accounts_moderate  ...  \\\n",
      "0          1.0           0.0                       0.0  ...   \n",
      "1          1.0           0.0                       0.0  ...   \n",
      "2          1.0           0.0                       0.0  ...   \n",
      "3          1.0           0.0                       0.0  ...   \n",
      "4          1.0           0.0                       1.0  ...   \n",
      "\n",
      "   Checking account_moderate  Checking account_rich  Purpose_car  \\\n",
      "0                        0.0                    1.0          0.0   \n",
      "1                        0.0                    0.0          0.0   \n",
      "2                        1.0                    0.0          0.0   \n",
      "3                        0.0                    0.0          0.0   \n",
      "4                        0.0                    0.0          0.0   \n",
      "\n",
      "   Purpose_domestic appliances  Purpose_education  \\\n",
      "0                          0.0                0.0   \n",
      "1                          0.0                0.0   \n",
      "2                          0.0                0.0   \n",
      "3                          0.0                0.0   \n",
      "4                          0.0                0.0   \n",
      "\n",
      "   Purpose_furniture/equipment  Purpose_radio/TV  Purpose_repairs  \\\n",
      "0                          0.0               1.0              0.0   \n",
      "1                          0.0               1.0              0.0   \n",
      "2                          0.0               1.0              0.0   \n",
      "3                          0.0               0.0              0.0   \n",
      "4                          0.0               1.0              0.0   \n",
      "\n",
      "   Purpose_vacation/others  Risk  \n",
      "0                      0.0     1  \n",
      "1                      0.0     1  \n",
      "2                      0.0     1  \n",
      "3                      0.0     1  \n",
      "4                      0.0     1  \n",
      "\n",
      "[5 rows x 22 columns]\n"
     ]
    }
   ],
   "source": [
    "train_df = pd.read_csv('credit_train.csv')\n",
    "print(\"Conjunto de dados de treino carregado com sucesso!\")\n",
    "print(f\"Dimensões do DataFrame de treino: {train_df.shape}\")\n",
    "print(\"\\nPrimeiras 5 linhas do conjunto de treino:\")\n",
    "print(train_df.head())"
   ]
  },
  {
   "cell_type": "markdown",
   "id": "7416d27f",
   "metadata": {},
   "source": [
    "## *TESTE*"
   ]
  },
  {
   "cell_type": "code",
   "execution_count": null,
   "id": "6173e85b",
   "metadata": {},
   "outputs": [],
   "source": [
    "import pandas as pd\n",
    "\n",
    "test_df = pd.read_csv('credit_test.csv')\n",
    "print(\"Conjunto de dados de teste carregado com sucesso!\")\n",
    "print(f\"Dimensões do DataFrame de teste: {test_df.shape}\")\n",
    "print(\"\\nPrimeiras 5 linhas do conjunto de teste:\")\n",
    "print(test_df.head())"
   ]
  },
  {
   "cell_type": "markdown",
   "id": "a481d68f",
   "metadata": {},
   "source": [
    "## **Parte B**"
   ]
  },
  {
   "cell_type": "markdown",
   "id": "12371b4b",
   "metadata": {},
   "source": [
    "### **Comparação de Modelos de Classificação**\n",
    "### **Decisão de negócio: Conceder ou negar crédito**\n",
    "\n",
    "**Objetivo:** Este notebook tem como objetivo treinar, avaliar e comparar três diferentes algoritmos de classificação para o problema de concessão de crédito para clientes de um banco.\n",
    "\n",
    "Os modelos a serem avaliados são:\n",
    "1.  Regressão Logística (nosso modelo base)\n",
    "2.  Gaussian Naïve Bayes\n",
    "3.  SVM (Support Vector Machine)\n",
    "\n",
    "A comparação final será realizada com base em métricas de performance como Acurácia, Precisão, Recall, F1-Score e, principalmente, a AUC (Área Sob a Curva ROC).\n",
    "\n",
    "--------------------\n"
   ]
  },
  {
   "cell_type": "markdown",
   "id": "b8a89d3b",
   "metadata": {},
   "source": [
    "Execute todos os passos necessários e ao final, salve o notebook com as saídas:"
   ]
  },
  {
   "cell_type": "markdown",
   "id": "0983d9b2",
   "metadata": {},
   "source": [
    "⭕ Utilize o conjunto de dados de treino para criar e treinar os seguintes modelos de classificação:\n",
    "\n",
    "*   Regressão Logística\n",
    "*   Gaussian Naïve Bayes\n",
    "*   SVM (Support Vector Machine)   \n",
    "\n",
    "\n",
    "⭕ Aplique os modelos treinados ao conjunto de dados de teste para prever o risco de crédito dos clientes.\n",
    "\n",
    "\n",
    "⭕ Avalie a qualidade dos seus modelos:\n",
    "\n",
    "*   Crie a matriz de confusão\n",
    "*   Gere o classification report\n",
    "*   Calcule a AUC e apresente a curva ROC\n",
    "*   Avalie as métricas obtidas\n"
   ]
  },
  {
   "cell_type": "code",
   "execution_count": 7,
   "id": "fb89a361",
   "metadata": {},
   "outputs": [
    {
     "ename": "SyntaxError",
     "evalue": "invalid syntax (2437932243.py, line 1)",
     "output_type": "error",
     "traceback": [
      "  \u001b[36mCell\u001b[39m\u001b[36m \u001b[39m\u001b[32mIn[7]\u001b[39m\u001b[32m, line 1\u001b[39m\n\u001b[31m    \u001b[39m\u001b[31m*   Regressão Logística\u001b[39m\n                  ^\n\u001b[31mSyntaxError\u001b[39m\u001b[31m:\u001b[39m invalid syntax\n"
     ]
    }
   ],
   "source": [
    "*   Regressão Logística"
   ]
  },
  {
   "cell_type": "markdown",
   "id": "a766df48",
   "metadata": {},
   "source": [
    "# **CONCLUSÃO**"
   ]
  },
  {
   "cell_type": "markdown",
   "id": "235edd00",
   "metadata": {},
   "source": [
    "Insira sua conclusão aqui.\n",
    "\n",
    "\n",
    "Qual o melhor modelo? Justifique sua resposta."
   ]
  }
 ],
 "metadata": {
  "kernelspec": {
   "display_name": "Python 3",
   "language": "python",
   "name": "python3"
  },
  "language_info": {
   "codemirror_mode": {
    "name": "ipython",
    "version": 3
   },
   "file_extension": ".py",
   "mimetype": "text/x-python",
   "name": "python",
   "nbconvert_exporter": "python",
   "pygments_lexer": "ipython3",
   "version": "3.12.7"
  }
 },
 "nbformat": 4,
 "nbformat_minor": 5
}
