{
  "cells": [
    {
      "cell_type": "markdown",
      "id": "3bf21e1f",
      "metadata": {
        "id": "3bf21e1f"
      },
      "source": [
        "# **IIA007 1sem2025 - Atividade Avaliativa 2**\n",
        "# **Parte B**\n",
        "\n",
        "## Disciplina: Inteligência Artificial e Aplicações\n",
        "## FATEC Ferraz de Vasconcelos\n",
        "### Professora: Ana Rosa C. Tonão\n",
        "#### Data: 30/06/2025\n",
        "\n",
        "\n",
        "-----------------------"
      ]
    },
    {
      "cell_type": "markdown",
      "id": "de94faf7",
      "metadata": {
        "id": "de94faf7"
      },
      "source": [
        "### **Instruções importantes:**\n",
        "\n",
        "(1) Esta atividade avaliativa deve ser realizada em **grupos de 5 integrantes (máximo)**.\n",
        "\n",
        "(2) **Informe seu(s) nome(s) completo(s) na tabela abaixo:**\n",
        "\n",
        "\n",
        "\n",
        "\n",
        "| Alunos(as) | \n",
        "| ----------- | \n",
        "| Nome: Diego Farias Macedo__________________________________________________| \n",
        "| Nome: Roger Brito Santos___________________________________________________| \n",
        "| Nome: Weigless Roberto de Souza Camargo____________________________________| \n",
        "\n",
        "\n",
        "(3) **Somente um integrante deve realizar a entrega no Teams.**\n",
        "\n",
        "(4) O notebook final deve apresentar os códigos e suas saídas (após a execução de cada célula).\n",
        "\n",
        "(5) Utilize os arquivos \"credit_train.csv\" e \"credit_test.csv\" gerados na parte A desta atividade, como conjuntos de treino e teste, respectivamente.\n",
        "\n",
        "\n",
        "----"
      ]
    },
    {
      "cell_type": "markdown",
      "id": "8df85d60",
      "metadata": {
        "id": "8df85d60"
      },
      "source": [
        "## **Descrição dos Dados**"
      ]
    },
    {
      "cell_type": "markdown",
      "id": "7701ac83",
      "metadata": {
        "id": "7701ac83"
      },
      "source": [
        "O conjunto de dados original contém 1.000 entradas com 20 atributos categóricos/simbólicos.\n",
        "\n",
        "Neste conjunto de dados, cada entrada representa uma pessoa que obtém crédito de um banco.\n",
        "\n",
        "Cada pessoa é classificada como tendo bom ou mau risco de crédito, de acordo com o conjunto de atributos.\n",
        "\n",
        "\n",
        "Os atributos selecionados são:\n",
        "\n",
        "*   Age - numeric: in years.\n",
        "\n",
        "*   Sex - text: male, female.\n",
        "\n",
        "*   Job (emprego) - numeric:\n",
        "\n",
        "        0 - unskilled and non-resident (não qualificado e não residente)\n",
        "        1 - unskilled and resident (não qualificado e residente)\n",
        "        2 - skilled (qualificado)  \n",
        "        3 - highly skilled (altamente qualificado)\n",
        "\n",
        "*   Housing (residência) - text:\n",
        "\n",
        "        own (própria)\n",
        "        rent (alugada)\n",
        "        free (gratuita)\n",
        "\n",
        "*   Saving accounts (montante em contas poupança) - text:\n",
        "\n",
        "        little (pouco)\n",
        "        moderate (moderado)  \n",
        "        quite rich (muito alto)\n",
        "        rich (alto)\n",
        "\n",
        "*   Checking account (montante em conta-corrente) - text:\n",
        "\n",
        "        little (pouco)\n",
        "        moderate (moderado)  \n",
        "        quite rich (muito alto)\n",
        "        rich (alto)\n",
        "\n",
        "*   Credit amount (valor do crédito) - numeric, in US$.\n",
        "\n",
        "*   Duration (duração do empréstimo) - numeric, in month.\n",
        "\n",
        "*   Purpose (objetivo do empréstimo) - text:\n",
        "\n",
        "        car   \n",
        "        furniture/equipment\n",
        "        radio/TV\n",
        "        domestic appliances\n",
        "        repairs\n",
        "        education\n",
        "        business\n",
        "        vacation/others\n",
        "\n",
        "\n",
        "*   **Risk (risco) - value target:** Good or Bad Risk"
      ]
    },
    {
      "cell_type": "markdown",
      "id": "b5490291",
      "metadata": {
        "id": "b5490291"
      },
      "source": [
        "## **Importando as bibliotecas necessárias**"
      ]
    },
    {
      "cell_type": "code",
      "execution_count": 1,
      "id": "88e16eac",
      "metadata": {
        "id": "88e16eac"
      },
      "outputs": [],
      "source": [
        "import pandas as pd\n",
        "from sklearn.metrics import accuracy_score, precision_score, recall_score, f1_score, confusion_matrix, classification_report\n",
        "from sklearn.linear_model import LogisticRegression\n",
        "from sklearn.tree import DecisionTreeClassifier\n",
        "from sklearn.svm import SVC\n",
        "from tabulate import tabulate\n",
        "import matplotlib.pyplot as plt\n",
        "import seaborn as sns\n",
        "from sklearn.metrics import classification_report, confusion_matrix"
      ]
    },
    {
      "cell_type": "markdown",
      "id": "3aea8893",
      "metadata": {
        "id": "3aea8893"
      },
      "source": [
        "## **Carregando os conjuntos de dados**\n",
        "\n",
        "## *TREINO*"
      ]
    },
    {
      "cell_type": "code",
      "execution_count": 2,
      "id": "ca1f53b0",
      "metadata": {
        "id": "ca1f53b0"
      },
      "outputs": [
        {
          "name": "stdout",
          "output_type": "stream",
          "text": [
            "Conjunto de dados de treino carregado com sucesso!\n",
            "Dimensões do DataFrame de treino: (700, 22)\n",
            "\n",
            "Primeiras 5 linhas do conjunto de treino:\n",
            "        Age  Credit amount  Duration  Sex_male  Job_1  Job_2  Job_3  \\\n",
            "0  0.200000       0.232365  0.470588       1.0    0.0    1.0    0.0   \n",
            "1  0.472727       0.086882  0.161765       1.0    0.0    1.0    0.0   \n",
            "2  0.127273       0.394410  0.823529       1.0    1.0    0.0    0.0   \n",
            "3  0.127273       0.051447  0.117647       0.0    0.0    1.0    0.0   \n",
            "4  0.127273       0.054308  0.029412       0.0    0.0    1.0    0.0   \n",
            "\n",
            "   Housing_own  Housing_rent  Saving accounts_moderate  ...  \\\n",
            "0          1.0           0.0                       0.0  ...   \n",
            "1          1.0           0.0                       0.0  ...   \n",
            "2          1.0           0.0                       0.0  ...   \n",
            "3          1.0           0.0                       0.0  ...   \n",
            "4          1.0           0.0                       1.0  ...   \n",
            "\n",
            "   Checking account_moderate  Checking account_rich  Purpose_car  \\\n",
            "0                        0.0                    1.0          0.0   \n",
            "1                        0.0                    0.0          0.0   \n",
            "2                        1.0                    0.0          0.0   \n",
            "3                        0.0                    0.0          0.0   \n",
            "4                        0.0                    0.0          0.0   \n",
            "\n",
            "   Purpose_domestic appliances  Purpose_education  \\\n",
            "0                          0.0                0.0   \n",
            "1                          0.0                0.0   \n",
            "2                          0.0                0.0   \n",
            "3                          0.0                0.0   \n",
            "4                          0.0                0.0   \n",
            "\n",
            "   Purpose_furniture/equipment  Purpose_radio/TV  Purpose_repairs  \\\n",
            "0                          0.0               1.0              0.0   \n",
            "1                          0.0               1.0              0.0   \n",
            "2                          0.0               1.0              0.0   \n",
            "3                          0.0               0.0              0.0   \n",
            "4                          0.0               1.0              0.0   \n",
            "\n",
            "   Purpose_vacation/others  Risk  \n",
            "0                      0.0     1  \n",
            "1                      0.0     1  \n",
            "2                      0.0     1  \n",
            "3                      0.0     1  \n",
            "4                      0.0     1  \n",
            "\n",
            "[5 rows x 22 columns]\n"
          ]
        }
      ],
      "source": [
        "train_df = pd.read_csv('credit_train.csv')\n",
        "print(\"Conjunto de dados de treino carregado com sucesso!\")\n",
        "print(f\"Dimensões do DataFrame de treino: {train_df.shape}\")\n",
        "print(\"\\nPrimeiras 5 linhas do conjunto de treino:\")\n",
        "print(train_df.head())"
      ]
    },
    {
      "cell_type": "markdown",
      "id": "7416d27f",
      "metadata": {
        "id": "7416d27f"
      },
      "source": [
        "# *TESTE*"
      ]
    },
    {
      "cell_type": "code",
      "execution_count": 3,
      "id": "6173e85b",
      "metadata": {
        "id": "6173e85b"
      },
      "outputs": [
        {
          "name": "stdout",
          "output_type": "stream",
          "text": [
            "Conjunto de dados de teste carregado com sucesso!\n",
            "Dimensões do DataFrame de teste: (300, 22)\n",
            "\n",
            "Primeiras 5 linhas do conjunto de teste:\n",
            "        Age  Credit amount  Duration  Sex_male  Job_1  Job_2  Job_3  \\\n",
            "0  0.436364       0.313250  0.294118       0.0    0.0    1.0    0.0   \n",
            "1  0.454545       0.004897  0.117647       1.0    1.0    0.0    0.0   \n",
            "2  0.509091       0.271817  0.338235       1.0    0.0    1.0    0.0   \n",
            "3  0.109091       0.179817  0.029412       1.0    0.0    1.0    0.0   \n",
            "4  0.072727       0.397381  0.117647       0.0    0.0    0.0    0.0   \n",
            "\n",
            "   Housing_own  Housing_rent  Saving accounts_moderate  ...  \\\n",
            "0          1.0           0.0                       0.0  ...   \n",
            "1          1.0           0.0                       0.0  ...   \n",
            "2          1.0           0.0                       0.0  ...   \n",
            "3          0.0           1.0                       0.0  ...   \n",
            "4          0.0           1.0                       0.0  ...   \n",
            "\n",
            "   Checking account_moderate  Checking account_rich  Purpose_car  \\\n",
            "0                        0.0                    0.0          0.0   \n",
            "1                        0.0                    0.0          0.0   \n",
            "2                        0.0                    0.0          0.0   \n",
            "3                        0.0                    0.0          1.0   \n",
            "4                        1.0                    0.0          1.0   \n",
            "\n",
            "   Purpose_domestic appliances  Purpose_education  \\\n",
            "0                          0.0                0.0   \n",
            "1                          0.0                1.0   \n",
            "2                          0.0                0.0   \n",
            "3                          0.0                0.0   \n",
            "4                          0.0                0.0   \n",
            "\n",
            "   Purpose_furniture/equipment  Purpose_radio/TV  Purpose_repairs  \\\n",
            "0                          0.0               1.0              0.0   \n",
            "1                          0.0               0.0              0.0   \n",
            "2                          0.0               0.0              1.0   \n",
            "3                          0.0               0.0              0.0   \n",
            "4                          0.0               0.0              0.0   \n",
            "\n",
            "   Purpose_vacation/others  Risk  \n",
            "0                      0.0     0  \n",
            "1                      0.0     1  \n",
            "2                      0.0     1  \n",
            "3                      0.0     1  \n",
            "4                      0.0     1  \n",
            "\n",
            "[5 rows x 22 columns]\n"
          ]
        }
      ],
      "source": [
        "test_df = pd.read_csv('credit_test.csv')\n",
        "print(\"Conjunto de dados de teste carregado com sucesso!\")\n",
        "print(f\"Dimensões do DataFrame de teste: {test_df.shape}\")\n",
        "print(\"\\nPrimeiras 5 linhas do conjunto de teste:\")\n",
        "print(test_df.head())"
      ]
    },
    {
      "cell_type": "markdown",
      "id": "a481d68f",
      "metadata": {
        "id": "a481d68f"
      },
      "source": [
        "## **Parte B**"
      ]
    },
    {
      "cell_type": "markdown",
      "id": "12371b4b",
      "metadata": {
        "id": "12371b4b"
      },
      "source": [
        "### **Comparação de Modelos de Classificação**\n",
        "### **Decisão de negócio: Conceder ou negar crédito**\n",
        "\n",
        "**Objetivo:** Este notebook tem como objetivo treinar, avaliar e comparar três diferentes algoritmos de classificação para o problema de concessão de crédito para clientes de um banco.\n",
        "\n",
        "Os modelos a serem avaliados são:\n",
        "1.  Regressão Logística (nosso modelo base)\n",
        "2.  Gaussian Naïve Bayes\n",
        "3.  SVM (Support Vector Machine)\n",
        "\n",
        "A comparação final será realizada com base em métricas de performance como Acurácia, Precisão, Recall, F1-Score e, principalmente, a AUC (Área Sob a Curva ROC).\n",
        "\n",
        "--------------------\n"
      ]
    },
    {
      "cell_type": "markdown",
      "id": "b8a89d3b",
      "metadata": {
        "id": "b8a89d3b"
      },
      "source": [
        "Execute todos os passos necessários e ao final, salve o notebook com as saídas:"
      ]
    },
    {
      "cell_type": "markdown",
      "id": "0983d9b2",
      "metadata": {
        "id": "0983d9b2"
      },
      "source": [
        "⭕ Utilize o conjunto de dados de treino para criar e treinar os seguintes modelos de classificação:\n",
        "\n",
        "*   Regressão Logística\n",
        "*   Gaussian Naïve Bayes\n",
        "*   SVM (Support Vector Machine)   \n",
        "\n",
        "\n",
        "⭕ Aplique os modelos treinados ao conjunto de dados de teste para prever o risco de crédito dos clientes.\n",
        "\n",
        "\n",
        "⭕ Avalie a qualidade dos seus modelos:\n",
        "\n",
        "*   Crie a matriz de confusão\n",
        "*   Gere o classification report\n",
        "*   Calcule a AUC e apresente a curva ROC\n",
        "*   Avalie as métricas obtidas\n"
      ]
    },
    {
      "cell_type": "code",
      "execution_count": 4,
      "id": "fb89a361",
      "metadata": {
        "colab": {
          "base_uri": "https://localhost:8080/"
        },
        "id": "fb89a361",
        "outputId": "229dd0c8-0bd0-49c8-d8cd-93cd3050b614"
      },
      "outputs": [
        {
          "name": "stdout",
          "output_type": "stream",
          "text": [
            "=== Dados Carregados com Sucesso ===\n",
            "\n",
            "Dimensões de X_train: (700, 21)\n",
            "Dimensões de y_train: (700,)\n",
            "\n",
            "Dimensões de X_test: (300, 21)\n",
            "Dimensões de y_test: (300,)\n",
            "\n",
            "========================================\n",
            "\n",
            "=== Amostra de X_train ===\n",
            "+----------+-----------------+------------+------------+---------+---------+---------+---------------+----------------+----------------------------+------------------------------+------------------------+-----------------------------+-------------------------+---------------+-------------------------------+---------------------+-------------------------------+--------------------+-------------------+---------------------------+\n",
            "|      Age |   Credit amount |   Duration |   Sex_male |   Job_1 |   Job_2 |   Job_3 |   Housing_own |   Housing_rent |   Saving accounts_moderate |   Saving accounts_quite rich |   Saving accounts_rich |   Checking account_moderate |   Checking account_rich |   Purpose_car |   Purpose_domestic appliances |   Purpose_education |   Purpose_furniture/equipment |   Purpose_radio/TV |   Purpose_repairs |   Purpose_vacation/others |\n",
            "|----------+-----------------+------------+------------+---------+---------+---------+---------------+----------------+----------------------------+------------------------------+------------------------+-----------------------------+-------------------------+---------------+-------------------------------+---------------------+-------------------------------+--------------------+-------------------+---------------------------|\n",
            "| 0.2      |       0.232365  |  0.470588  |          1 |       0 |       1 |       0 |             1 |              0 |                          0 |                            0 |                      0 |                           0 |                       1 |             0 |                             0 |                   0 |                             0 |                  1 |                 0 |                         0 |\n",
            "| 0.472727 |       0.0868824 |  0.161765  |          1 |       0 |       1 |       0 |             1 |              0 |                          0 |                            0 |                      0 |                           0 |                       0 |             0 |                             0 |                   0 |                             0 |                  1 |                 0 |                         0 |\n",
            "| 0.127273 |       0.39441   |  0.823529  |          1 |       1 |       0 |       0 |             1 |              0 |                          0 |                            0 |                      0 |                           1 |                       0 |             0 |                             0 |                   0 |                             0 |                  1 |                 0 |                         0 |\n",
            "| 0.127273 |       0.0514471 |  0.117647  |          0 |       0 |       1 |       0 |             1 |              0 |                          0 |                            0 |                      0 |                           0 |                       0 |             0 |                             0 |                   0 |                             0 |                  0 |                 0 |                         0 |\n",
            "| 0.127273 |       0.0543084 |  0.0294118 |          0 |       0 |       1 |       0 |             1 |              0 |                          1 |                            0 |                      0 |                           0 |                       0 |             0 |                             0 |                   0 |                             0 |                  1 |                 0 |                         0 |\n",
            "+----------+-----------------+------------+------------+---------+---------+---------+---------------+----------------+----------------------------+------------------------------+------------------------+-----------------------------+-------------------------+---------------+-------------------------------+---------------------+-------------------------------+--------------------+-------------------+---------------------------+\n",
            "\n",
            "=== Amostra de y_train ===\n",
            "+--------+\n",
            "|   Risk |\n",
            "|--------|\n",
            "|      1 |\n",
            "|      1 |\n",
            "|      1 |\n",
            "|      1 |\n",
            "|      1 |\n",
            "+--------+\n"
          ]
        }
      ],
      "source": [
        "xt = train_df.drop('Risk', axis=1)\n",
        "yt = train_df['Risk']\n",
        "\n",
        "xtest = test_df.drop('Risk', axis=1)\n",
        "ytest = test_df['Risk']\n",
        "\n",
        "print(\"=== Dados Carregados com Sucesso ===\\n\")\n",
        "print(f\"Dimensões de X_train: {xt.shape}\")\n",
        "print(f\"Dimensões de y_train: {yt.shape}\\n\")\n",
        "print(f\"Dimensões de X_test: {xtest.shape}\")\n",
        "print(f\"Dimensões de y_test: {ytest.shape}\")\n",
        "print(\"\\n\" + \"=\"*40 + \"\\n\")\n",
        "\n",
        "print(\"=== Amostra de X_train ===\")\n",
        "print(tabulate(xt.head(), headers='keys', tablefmt='psql', showindex=False))\n",
        "\n",
        "print(\"\\n=== Amostra de y_train ===\")\n",
        "print(tabulate(yt.head().to_frame(), headers='keys', tablefmt='psql', showindex=False))"
      ]
    },
    {
      "cell_type": "markdown",
      "id": "9USXfXqSSoc9",
      "metadata": {
        "id": "9USXfXqSSoc9"
      },
      "source": [
        "# Treinamento e Avaliação do Modelo 1: Regressão Logística"
      ]
    },
    {
      "cell_type": "code",
      "execution_count": 5,
      "id": "HO0dERcpRMIV",
      "metadata": {
        "colab": {
          "base_uri": "https://localhost:8080/"
        },
        "id": "HO0dERcpRMIV",
        "outputId": "228b4407-e832-4316-9311-35ddac5471b5"
      },
      "outputs": [
        {
          "name": "stdout",
          "output_type": "stream",
          "text": [
            "=== Avaliação do Modelo: Regressão Logística ===\n",
            "\n",
            "Relatório de Classificação:\n",
            "              precision    recall  f1-score   support\n",
            "\n",
            "           0       0.52      0.19      0.28        90\n",
            "           1       0.73      0.92      0.81       210\n",
            "\n",
            "    accuracy                           0.70       300\n",
            "   macro avg       0.62      0.56      0.54       300\n",
            "weighted avg       0.66      0.70      0.65       300\n",
            "\n"
          ]
        }
      ],
      "source": [
        "logreg = LogisticRegression(max_iter=1000)\n",
        "logreg.fit(xt, yt)\n",
        "ypred_logreg = logreg.predict(xtest)\n",
        "\n",
        "print(\"=== Avaliação do Modelo: Regressão Logística ===\\n\")\n",
        "print(\"Relatório de Classificação:\")\n",
        "print(classification_report(ytest, ypred_logreg))\n",
        "\n",
        "cm = confusion_matrix(ytest, ypred_logreg)\n",
        "cm_labels = ['Bad Risk', 'Good Risk']"
      ]
    },
    {
      "cell_type": "code",
      "execution_count": 6,
      "id": "4cb33af9",
      "metadata": {},
      "outputs": [
        {
          "data": {
            "image/png": "[encoded data removed]",
            "text/plain": [
              "<Figure size 600x500 with 2 Axes>"
            ]
          },
          "metadata": {},
          "output_type": "display_data"
        }
      ],
      "source": [
        "plt.figure(figsize=(6,5))\n",
        "sns.heatmap(cm, annot=True, fmt='d', cmap='Blues', xticklabels=cm_labels, yticklabels=cm_labels)\n",
        "plt.xlabel('Predito')\n",
        "plt.ylabel('Real')\n",
        "plt.title('Matriz de Confusão - Regressão Logística')\n",
        "plt.show()"
      ]
    },
    {
      "cell_type": "markdown",
      "id": "YywpxZznSs-9",
      "metadata": {
        "id": "YywpxZznSs-9"
      },
      "source": [
        "# Treinamento e Avaliação do Modelo 2: Árvore de Decisão"
      ]
    },
    {
      "cell_type": "code",
      "execution_count": 7,
      "id": "DJIFaCmWRStF",
      "metadata": {
        "colab": {
          "base_uri": "https://localhost:8080/"
        },
        "id": "DJIFaCmWRStF",
        "outputId": "1ddfe3e0-d61b-4d6f-aabb-badda9a5dafc"
      },
      "outputs": [
        {
          "name": "stdout",
          "output_type": "stream",
          "text": [
            "=== Avaliação do Modelo: Árvore de Decisão ===\n",
            "\n",
            "Relatório de Classificação:\n",
            "              precision    recall  f1-score   support\n",
            "\n",
            "           0       0.40      0.42      0.41        90\n",
            "           1       0.75      0.72      0.73       210\n",
            "\n",
            "    accuracy                           0.63       300\n",
            "   macro avg       0.57      0.57      0.57       300\n",
            "weighted avg       0.64      0.63      0.64       300\n",
            "\n"
          ]
        }
      ],
      "source": [
        "dtree = DecisionTreeClassifier(random_state=42)\n",
        "dtree.fit(xt, yt)\n",
        "\n",
        "ypred_tree = dtree.predict(xtest)\n",
        "\n",
        "print(\"=== Avaliação do Modelo: Árvore de Decisão ===\\n\")\n",
        "print(\"Relatório de Classificação:\")\n",
        "print(classification_report(ytest, ypred_tree))\n",
        "\n",
        "cm = confusion_matrix(ytest, ypred_tree)\n",
        "cm_labels = ['Bad Risk', 'Good Risk']"
      ]
    },
    {
      "cell_type": "code",
      "execution_count": 8,
      "id": "78524e14",
      "metadata": {},
      "outputs": [
        {
          "data": {
            "image/png": "[encoded data removed]",
            "text/plain": [
              "<Figure size 600x500 with 2 Axes>"
            ]
          },
          "metadata": {},
          "output_type": "display_data"
        }
      ],
      "source": [
        "plt.figure(figsize=(6,5))\n",
        "sns.heatmap(cm, annot=True, fmt='d', cmap='Greens', xticklabels=cm_labels, yticklabels=cm_labels)\n",
        "plt.xlabel('Predito')\n",
        "plt.ylabel('Real')\n",
        "plt.title('Matriz de Confusão - Árvore de Decisão')\n",
        "plt.show()"
      ]
    },
    {
      "cell_type": "markdown",
      "id": "3ukMUzljTGMd",
      "metadata": {
        "id": "3ukMUzljTGMd"
      },
      "source": [
        "# Treinamento e Avaliação do Modelo 3: SVM"
      ]
    },
    {
      "cell_type": "code",
      "execution_count": 9,
      "id": "os7_dNtlRZHl",
      "metadata": {
        "colab": {
          "base_uri": "https://localhost:8080/"
        },
        "id": "os7_dNtlRZHl",
        "outputId": "b576016b-59b1-44e9-d0fb-575727357d7e"
      },
      "outputs": [
        {
          "name": "stdout",
          "output_type": "stream",
          "text": [
            "=== Avaliação do Modelo: SVM ===\n",
            "\n",
            "Relatório de Classificação:\n",
            "              precision    recall  f1-score   support\n",
            "\n",
            "           0       0.50      0.06      0.10        90\n",
            "           1       0.71      0.98      0.82       210\n",
            "\n",
            "    accuracy                           0.70       300\n",
            "   macro avg       0.60      0.52      0.46       300\n",
            "weighted avg       0.64      0.70      0.60       300\n",
            "\n"
          ]
        }
      ],
      "source": [
        "svm_model = SVC(random_state=42)\n",
        "svm_model.fit(xt, yt)\n",
        "\n",
        "ypred_svm = svm_model.predict(xtest)\n",
        "\n",
        "print(\"=== Avaliação do Modelo: SVM ===\\n\")\n",
        "print(\"Relatório de Classificação:\")\n",
        "print(classification_report(ytest, ypred_svm))\n",
        "\n",
        "cm = confusion_matrix(ytest, ypred_svm)\n",
        "cm_labels = ['Bad Risk', 'Good Risk']"
      ]
    },
    {
      "cell_type": "code",
      "execution_count": 10,
      "id": "c82503a2",
      "metadata": {},
      "outputs": [
        {
          "data": {
            "image/png": "[encoded data removed]",
            "text/plain": [
              "<Figure size 600x500 with 2 Axes>"
            ]
          },
          "metadata": {},
          "output_type": "display_data"
        }
      ],
      "source": [
        "plt.figure(figsize=(6,5))\n",
        "sns.heatmap(cm, annot=True, fmt='d', cmap='Purples', xticklabels=cm_labels, yticklabels=cm_labels)\n",
        "plt.xlabel('Predito')\n",
        "plt.ylabel('Real')\n",
        "plt.title('Matriz de Confusão - SVM')\n",
        "plt.show()"
      ]
    },
    {
      "cell_type": "code",
      "execution_count": 15,
      "id": "hvfK-Ih9Rdyd",
      "metadata": {
        "colab": {
          "base_uri": "https://localhost:8080/"
        },
        "id": "hvfK-Ih9Rdyd",
        "outputId": "47aef4cf-ce63-45fa-958f-70d4dd6239a1"
      },
      "outputs": [
        {
          "data": {
            "image/png": "[encoded data removed]",
            "text/plain": [
              "<Figure size 1000x600 with 1 Axes>"
            ]
          },
          "metadata": {},
          "output_type": "display_data"
        }
      ],
      "source": [
        "import numpy as np \n",
        "modelos = ['Regressão Logística', 'Árvore de Decisão', 'SVM']\n",
        "\n",
        "acuracia = [\n",
        "    accuracy_score(ytest, ypred_logreg),\n",
        "    accuracy_score(ytest, ypred_tree),\n",
        "    accuracy_score(ytest, ypred_svm)\n",
        "]\n",
        "\n",
        "f1score_0 = [\n",
        "    f1_score(ytest, ypred_logreg, pos_label=0),\n",
        "    f1_score(ytest, ypred_tree, pos_label=0),\n",
        "    f1_score(ytest, ypred_svm, pos_label=0)\n",
        "]\n",
        "\n",
        "recall_0 = [\n",
        "    recall_score(ytest, ypred_logreg, pos_label=0),\n",
        "    recall_score(ytest, ypred_tree, pos_label=0),\n",
        "    recall_score(ytest, ypred_svm, pos_label=0)\n",
        "]\n",
        "\n",
        "x = np.arange(len(modelos))\n",
        "largura = 0.25\n",
        "\n",
        "fig, ax = plt.subplots(figsize=(10, 6))\n",
        "\n",
        "bars1 = ax.bar(x - largura, acuracia, width=largura, label='Acurácia', color='skyblue')\n",
        "bars2 = ax.bar(x, f1score_0, width=largura, label='F1-Score (classe 0)', color='mediumseagreen')\n",
        "bars3 = ax.bar(x + largura, recall_0, width=largura, label='Recall (classe 0)', color='orange')\n",
        "\n",
        "def adicionar_valores(barras):\n",
        "    for bar in barras:\n",
        "        altura = bar.get_height()\n",
        "        ax.annotate(f'{altura:.4f}', \n",
        "                    xy=(bar.get_x() + bar.get_width() / 2, altura),\n",
        "                    xytext=(0, 5),\n",
        "                    textcoords=\"offset points\",\n",
        "                    ha='center', va='bottom', fontsize=9)\n",
        "\n",
        "adicionar_valores(bars1)\n",
        "adicionar_valores(bars2)\n",
        "adicionar_valores(bars3)\n",
        "\n",
        "ax.set_xticks(x)\n",
        "ax.set_xticklabels(modelos, rotation=15)\n",
        "ax.set_ylim(0, 1.05)\n",
        "ax.set_title('Comparação de Desempenho dos Modelos')\n",
        "ax.set_ylabel('Pontuação')\n",
        "ax.legend()\n",
        "ax.grid(axis='y', linestyle='--', alpha=0.7)\n",
        "\n",
        "plt.tight_layout()\n",
        "plt.show()"
      ]
    },
    {
      "cell_type": "markdown",
      "id": "a766df48",
      "metadata": {
        "id": "a766df48"
      },
      "source": [
        "# **CONCLUSÃO**"
      ]
    },
    {
      "cell_type": "markdown",
      "id": "235edd00",
      "metadata": {
        "id": "235edd00"
      },
      "source": [
        "Análise Comparativa de Modelos para Identificação de Risco de Crédito\n",
        "\n",
        "Considerando que estamos tentando prever clientes com alto risco de inadimplência, avaliamos três modelos: Regressão Logística, Árvore de Decisão e SVM.\n",
        "\n",
        "* ACURÁCIA – O modelo SVM apresentou a maior acurácia geral, com 70%, enquanto a Regressão Logística atingiu 70,3% e a Árvore de Decisão, 63,3%.\n",
        "\n",
        "* RECALL (Classe de Risco) – A Árvore de Decisão se destacou, alcançando um recall de 42,2%, ou seja, conseguiu identificar corretamente 42,2% dos clientes inadimplentes. A Regressão Logística teve recall de 18,9% e o SVM apenas 5,6%.\n",
        "\n",
        "* F1-SCORE (Classe de Risco) – A Árvore de Decisão também foi superior, com um F1-Score de 40,9%, contra 27,6% da Regressão Logística e 10% do SVM.\n",
        "\n",
        "**Conclusão:**\n",
        "Apesar da alta acurácia do SVM, seu baixo recall compromete sua efetividade para o objetivo principal do negócio: identificar clientes de risco. Já a Árvore de Decisão, mesmo com acurácia mais baixa, apresentou desempenho muito superior nas métricas que realmente importam para redução de inadimplência. Portanto, o modelo recomendado é a Árvore de Decisão, por ser o mais alinhado com os objetivos estratégicos do banco."
      ]
    }
  ],
  "metadata": {
    "colab": {
      "provenance": []
    },
    "kernelspec": {
      "display_name": "Python 3",
      "name": "python3"
    },
    "language_info": {
      "codemirror_mode": {
        "name": "ipython",
        "version": 3
      },
      "file_extension": ".py",
      "mimetype": "text/x-python",
      "name": "python",
      "nbconvert_exporter": "python",
      "pygments_lexer": "ipython3",
      "version": "3.12.7"
    }
  },
  "nbformat": 4,
  "nbformat_minor": 5
}
