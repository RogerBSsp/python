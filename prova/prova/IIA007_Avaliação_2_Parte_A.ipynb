{
  "cells": [
    {
      "cell_type": "markdown",
      "id": "G2rJ-Lvb_pJK",
      "metadata": {
        "id": "G2rJ-Lvb_pJK"
      },
      "source": [
        "# **IIA007 1sem2025 - Atividade Avaliativa 2**\n",
        "\n",
        "## Disciplina: Inteligência Artificial e Aplicações\n",
        "## FATEC Ferraz de Vasconcelos\n",
        "### Professora: Ana Rosa C. Tonão\n",
        "#### Data: 30/06/2025\n",
        "\n",
        "\n",
        "-----------------------"
      ]
    },
    {
      "cell_type": "markdown",
      "id": "cfkuL3Tr_pJM",
      "metadata": {
        "id": "cfkuL3Tr_pJM"
      },
      "source": [
        "### **Instruções importantes:**\n",
        "\n",
        "(1) Esta atividade avaliativa deve ser realizada em **grupos de 5 integrantes (máximo)**.\n",
        "\n",
        "(2) **Informe seu(s) nome(s) completo(s) na tabela abaixo:**\n",
        "\n",
        "\n",
        "\n",
        "| Alunos(as) |\n",
        "| ----------- |\n",
        "| Nome: Kevin Santos Parreira Lourenço|\n",
        "| Nome: Gustavo Yuji Tsutumi|\n",
        "| Nome: David Souza da Silva|\n",
        "\n",
        "\n",
        "(3) **Somente um integrante deve realizar a entrega no Teams.**\n",
        "\n",
        "(4) O notebook final deve apresentar os códigos e suas saídas (após a execução de cada célula).\n",
        "\n",
        "\n",
        "----"
      ]
    },
    {
      "cell_type": "markdown",
      "id": "v0rG4lDR_pJN",
      "metadata": {
        "id": "v0rG4lDR_pJN"
      },
      "source": [
        "## **Descrição dos Dados**"
      ]
    },
    {
      "cell_type": "markdown",
      "id": "K97Nh1B6_pJN",
      "metadata": {
        "id": "K97Nh1B6_pJN"
      },
      "source": [
        "O conjunto de dados original contém 1.000 entradas com 20 atributos categoriais/simbólicos.\n",
        "\n",
        "Neste conjunto de dados, cada entrada representa uma pessoa que obtém crédito de um banco.\n",
        "\n",
        "Cada pessoa é classificada como tendo bom ou mau risco de crédito, de acordo com o conjunto de atributos.\n",
        "\n",
        "\n",
        "Os atributos selecionados são:\n",
        "\n",
        "*   Age - numeric: in years.\n",
        "\n",
        "*   Sex - text: male, female.\n",
        "\n",
        "*   Job (emprego) - numeric:\n",
        "\n",
        "        0 - unskilled and non-resident (não qualificado e não residente)\n",
        "        1 - unskilled and resident (não qualificado e residente)\n",
        "        2 - skilled (qualificado)  \n",
        "        3 - highly skilled (altamente qualificado)\n",
        "\n",
        "*   Housing (residência) - text:\n",
        "\n",
        "        own (própria)\n",
        "        rent (alugada)\n",
        "        free (gratuita)\n",
        "\n",
        "*   Saving accounts (montante em contas poupança) - text:\n",
        "\n",
        "        little (pouco)\n",
        "        moderate (moderado)  \n",
        "        quite rich (muito alto)\n",
        "        rich (alto)\n",
        "\n",
        "*   Checking account (montante em conta-corrente) - text:\n",
        "\n",
        "        little (pouco)\n",
        "        moderate (moderado)  \n",
        "        quite rich (muito alto)\n",
        "        rich (alto)\n",
        "\n",
        "*   Credit amount (valor do crédito) - numeric, in US$.\n",
        "\n",
        "*   Duration (duração do empréstimo) - numeric, in month.\n",
        "\n",
        "*   Purpose (objetivo do empréstimo) - text:\n",
        "\n",
        "        car   \n",
        "        furniture/equipment\n",
        "        radio/TV\n",
        "        domestic appliances\n",
        "        repairs\n",
        "        education\n",
        "        business\n",
        "        vacation/others\n",
        "\n",
        "\n",
        "*   **Risk (risco) - value target:** Good or Bad Risk"
      ]
    },
    {
      "cell_type": "markdown",
      "id": "STwi-CrC_pJN",
      "metadata": {
        "id": "STwi-CrC_pJN"
      },
      "source": [
        "## **Importando as bibliotecas necessárias**"
      ]
    },
    {
      "cell_type": "code",
      "execution_count": 2,
      "id": "t1cuSPGP_pJO",
      "metadata": {
        "id": "t1cuSPGP_pJO"
      },
      "outputs": [],
      "source": [
        "import pandas as pd\n",
        "import numpy as np\n",
        "from sklearn.model_selection import train_test_split\n",
        "from sklearn.preprocessing import LabelEncoder, MinMaxScaler\n",
        "import sys"
      ]
    },
    {
      "cell_type": "markdown",
      "id": "3aea8893",
      "metadata": {
        "id": "3aea8893"
      },
      "source": [
        "## **Carregando os dados**"
      ]
    },
    {
      "cell_type": "code",
      "execution_count": 9,
      "id": "ca1f53b0",
      "metadata": {
        "colab": {
          "base_uri": "https://localhost:8080/"
        },
        "id": "ca1f53b0",
        "outputId": "fc2c621b-3b7e-47f0-ff05-3c568120d9fe"
      },
      "outputs": [
        {
          "ename": "FileNotFoundError",
          "evalue": "[Errno 2] No such file or directory: 'D:\\\\prova\\\\prova\\\\french_credit_data.xlsx'",
          "output_type": "error",
          "traceback": [
            "\u001b[31m---------------------------------------------------------------------------\u001b[39m",
            "\u001b[31mFileNotFoundError\u001b[39m                         Traceback (most recent call last)",
            "\u001b[36mCell\u001b[39m\u001b[36m \u001b[39m\u001b[32mIn[9]\u001b[39m\u001b[32m, line 9\u001b[39m\n\u001b[32m      5\u001b[39m sys.path.append(\u001b[33m'\u001b[39m\u001b[33mD:\u001b[39m\u001b[38;5;130;01m\\\\\u001b[39;00m\u001b[33mprova\u001b[39m\u001b[38;5;130;01m\\\\\u001b[39;00m\u001b[33mprova\u001b[39m\u001b[33m'\u001b[39m)\n\u001b[32m      8\u001b[39m \u001b[38;5;66;03m# Lê o arquivo retention_train.xlsx\u001b[39;00m\n\u001b[32m----> \u001b[39m\u001b[32m9\u001b[39m retention_train = \u001b[43mpd\u001b[49m\u001b[43m.\u001b[49m\u001b[43mread_excel\u001b[49m\u001b[43m(\u001b[49m\u001b[33;43m'\u001b[39;49m\u001b[33;43mD:\u001b[39;49m\u001b[38;5;130;43;01m\\\\\u001b[39;49;00m\u001b[33;43mprova\u001b[39;49m\u001b[38;5;130;43;01m\\\\\u001b[39;49;00m\u001b[33;43mprova\u001b[39;49m\u001b[38;5;130;43;01m\\\\\u001b[39;49;00m\u001b[33;43mfrench_credit_data.xlsx\u001b[39;49m\u001b[33;43m'\u001b[39;49m\u001b[43m)\u001b[49m\n",
            "\u001b[36mFile \u001b[39m\u001b[32mc:\\Users\\Aluno\\AppData\\Local\\Programs\\Python\\Python312\\Lib\\site-packages\\pandas\\io\\excel\\_base.py:495\u001b[39m, in \u001b[36mread_excel\u001b[39m\u001b[34m(io, sheet_name, header, names, index_col, usecols, dtype, engine, converters, true_values, false_values, skiprows, nrows, na_values, keep_default_na, na_filter, verbose, parse_dates, date_parser, date_format, thousands, decimal, comment, skipfooter, storage_options, dtype_backend, engine_kwargs)\u001b[39m\n\u001b[32m    493\u001b[39m \u001b[38;5;28;01mif\u001b[39;00m \u001b[38;5;129;01mnot\u001b[39;00m \u001b[38;5;28misinstance\u001b[39m(io, ExcelFile):\n\u001b[32m    494\u001b[39m     should_close = \u001b[38;5;28;01mTrue\u001b[39;00m\n\u001b[32m--> \u001b[39m\u001b[32m495\u001b[39m     io = \u001b[43mExcelFile\u001b[49m\u001b[43m(\u001b[49m\n\u001b[32m    496\u001b[39m \u001b[43m        \u001b[49m\u001b[43mio\u001b[49m\u001b[43m,\u001b[49m\n\u001b[32m    497\u001b[39m \u001b[43m        \u001b[49m\u001b[43mstorage_options\u001b[49m\u001b[43m=\u001b[49m\u001b[43mstorage_options\u001b[49m\u001b[43m,\u001b[49m\n\u001b[32m    498\u001b[39m \u001b[43m        \u001b[49m\u001b[43mengine\u001b[49m\u001b[43m=\u001b[49m\u001b[43mengine\u001b[49m\u001b[43m,\u001b[49m\n\u001b[32m    499\u001b[39m \u001b[43m        \u001b[49m\u001b[43mengine_kwargs\u001b[49m\u001b[43m=\u001b[49m\u001b[43mengine_kwargs\u001b[49m\u001b[43m,\u001b[49m\n\u001b[32m    500\u001b[39m \u001b[43m    \u001b[49m\u001b[43m)\u001b[49m\n\u001b[32m    501\u001b[39m \u001b[38;5;28;01melif\u001b[39;00m engine \u001b[38;5;129;01mand\u001b[39;00m engine != io.engine:\n\u001b[32m    502\u001b[39m     \u001b[38;5;28;01mraise\u001b[39;00m \u001b[38;5;167;01mValueError\u001b[39;00m(\n\u001b[32m    503\u001b[39m         \u001b[33m\"\u001b[39m\u001b[33mEngine should not be specified when passing \u001b[39m\u001b[33m\"\u001b[39m\n\u001b[32m    504\u001b[39m         \u001b[33m\"\u001b[39m\u001b[33man ExcelFile - ExcelFile already has the engine set\u001b[39m\u001b[33m\"\u001b[39m\n\u001b[32m    505\u001b[39m     )\n",
            "\u001b[36mFile \u001b[39m\u001b[32mc:\\Users\\Aluno\\AppData\\Local\\Programs\\Python\\Python312\\Lib\\site-packages\\pandas\\io\\excel\\_base.py:1550\u001b[39m, in \u001b[36mExcelFile.__init__\u001b[39m\u001b[34m(self, path_or_buffer, engine, storage_options, engine_kwargs)\u001b[39m\n\u001b[32m   1548\u001b[39m     ext = \u001b[33m\"\u001b[39m\u001b[33mxls\u001b[39m\u001b[33m\"\u001b[39m\n\u001b[32m   1549\u001b[39m \u001b[38;5;28;01melse\u001b[39;00m:\n\u001b[32m-> \u001b[39m\u001b[32m1550\u001b[39m     ext = \u001b[43minspect_excel_format\u001b[49m\u001b[43m(\u001b[49m\n\u001b[32m   1551\u001b[39m \u001b[43m        \u001b[49m\u001b[43mcontent_or_path\u001b[49m\u001b[43m=\u001b[49m\u001b[43mpath_or_buffer\u001b[49m\u001b[43m,\u001b[49m\u001b[43m \u001b[49m\u001b[43mstorage_options\u001b[49m\u001b[43m=\u001b[49m\u001b[43mstorage_options\u001b[49m\n\u001b[32m   1552\u001b[39m \u001b[43m    \u001b[49m\u001b[43m)\u001b[49m\n\u001b[32m   1553\u001b[39m     \u001b[38;5;28;01mif\u001b[39;00m ext \u001b[38;5;129;01mis\u001b[39;00m \u001b[38;5;28;01mNone\u001b[39;00m:\n\u001b[32m   1554\u001b[39m         \u001b[38;5;28;01mraise\u001b[39;00m \u001b[38;5;167;01mValueError\u001b[39;00m(\n\u001b[32m   1555\u001b[39m             \u001b[33m\"\u001b[39m\u001b[33mExcel file format cannot be determined, you must specify \u001b[39m\u001b[33m\"\u001b[39m\n\u001b[32m   1556\u001b[39m             \u001b[33m\"\u001b[39m\u001b[33man engine manually.\u001b[39m\u001b[33m\"\u001b[39m\n\u001b[32m   1557\u001b[39m         )\n",
            "\u001b[36mFile \u001b[39m\u001b[32mc:\\Users\\Aluno\\AppData\\Local\\Programs\\Python\\Python312\\Lib\\site-packages\\pandas\\io\\excel\\_base.py:1402\u001b[39m, in \u001b[36minspect_excel_format\u001b[39m\u001b[34m(content_or_path, storage_options)\u001b[39m\n\u001b[32m   1399\u001b[39m \u001b[38;5;28;01mif\u001b[39;00m \u001b[38;5;28misinstance\u001b[39m(content_or_path, \u001b[38;5;28mbytes\u001b[39m):\n\u001b[32m   1400\u001b[39m     content_or_path = BytesIO(content_or_path)\n\u001b[32m-> \u001b[39m\u001b[32m1402\u001b[39m \u001b[38;5;28;01mwith\u001b[39;00m \u001b[43mget_handle\u001b[49m\u001b[43m(\u001b[49m\n\u001b[32m   1403\u001b[39m \u001b[43m    \u001b[49m\u001b[43mcontent_or_path\u001b[49m\u001b[43m,\u001b[49m\u001b[43m \u001b[49m\u001b[33;43m\"\u001b[39;49m\u001b[33;43mrb\u001b[39;49m\u001b[33;43m\"\u001b[39;49m\u001b[43m,\u001b[49m\u001b[43m \u001b[49m\u001b[43mstorage_options\u001b[49m\u001b[43m=\u001b[49m\u001b[43mstorage_options\u001b[49m\u001b[43m,\u001b[49m\u001b[43m \u001b[49m\u001b[43mis_text\u001b[49m\u001b[43m=\u001b[49m\u001b[38;5;28;43;01mFalse\u001b[39;49;00m\n\u001b[32m   1404\u001b[39m \u001b[43m\u001b[49m\u001b[43m)\u001b[49m \u001b[38;5;28;01mas\u001b[39;00m handle:\n\u001b[32m   1405\u001b[39m     stream = handle.handle\n\u001b[32m   1406\u001b[39m     stream.seek(\u001b[32m0\u001b[39m)\n",
            "\u001b[36mFile \u001b[39m\u001b[32mc:\\Users\\Aluno\\AppData\\Local\\Programs\\Python\\Python312\\Lib\\site-packages\\pandas\\io\\common.py:882\u001b[39m, in \u001b[36mget_handle\u001b[39m\u001b[34m(path_or_buf, mode, encoding, compression, memory_map, is_text, errors, storage_options)\u001b[39m\n\u001b[32m    873\u001b[39m         handle = \u001b[38;5;28mopen\u001b[39m(\n\u001b[32m    874\u001b[39m             handle,\n\u001b[32m    875\u001b[39m             ioargs.mode,\n\u001b[32m   (...)\u001b[39m\u001b[32m    878\u001b[39m             newline=\u001b[33m\"\u001b[39m\u001b[33m\"\u001b[39m,\n\u001b[32m    879\u001b[39m         )\n\u001b[32m    880\u001b[39m     \u001b[38;5;28;01melse\u001b[39;00m:\n\u001b[32m    881\u001b[39m         \u001b[38;5;66;03m# Binary mode\u001b[39;00m\n\u001b[32m--> \u001b[39m\u001b[32m882\u001b[39m         handle = \u001b[38;5;28;43mopen\u001b[39;49m\u001b[43m(\u001b[49m\u001b[43mhandle\u001b[49m\u001b[43m,\u001b[49m\u001b[43m \u001b[49m\u001b[43mioargs\u001b[49m\u001b[43m.\u001b[49m\u001b[43mmode\u001b[49m\u001b[43m)\u001b[49m\n\u001b[32m    883\u001b[39m     handles.append(handle)\n\u001b[32m    885\u001b[39m \u001b[38;5;66;03m# Convert BytesIO or file objects passed with an encoding\u001b[39;00m\n",
            "\u001b[31mFileNotFoundError\u001b[39m: [Errno 2] No such file or directory: 'D:\\\\prova\\\\prova\\\\french_credit_data.xlsx'"
          ]
        }
      ],
      "source": [
        "import sys\n",
        "import pandas as pd\n",
        "\n",
        "# Adiciona o diretório D:\\prova\\prova ao sys.path (caso tenha arquivos .py para importar)\n",
        "sys.path.append('D:\\\\prova\\\\prova')\n",
        "\n",
        "\n",
        "# Lê o arquivo retention_train.xlsx\n",
        "retention_train = pd.read_excel('D:\\\\prova\\\\prova\\\\french_credit_data.xlsx')"
      ]
    },
    {
      "cell_type": "markdown",
      "id": "zAGlemmt_pJP",
      "metadata": {
        "id": "zAGlemmt_pJP"
      },
      "source": [
        "## **Parte A - Preparação de dados e Pré-Processamento**\n",
        "\n",
        "Execute todos os passos necessários e ao final, salve o notebook com as saídas para serem utilizados na Parte B:\n",
        "\n"
      ]
    },
    {
      "cell_type": "markdown",
      "id": "UnQd4UD1_pJP",
      "metadata": {
        "id": "UnQd4UD1_pJP"
      },
      "source": [
        "⭕ Tratamento dos Dados\n",
        "\n",
        "*   Verifique os tipos de dados\n",
        "*   Trate os registros duplicados\n",
        "*   Trate os valores nulos\n",
        "*   Crie as variáveis dummy para as features categóricas (com eliminação de multicolinearidade)\n",
        "*   Normalize (ajuste a escala) das features numéricas\n",
        "*   Aplique label encoding na variável target  \n",
        "\n",
        "\n",
        "⭕ Pré-processamento\n",
        "*   Divida o dataset em treino (70%) e teste (30%)"
      ]
    },
    {
      "cell_type": "markdown",
      "id": "CqLJpiy2E922",
      "metadata": {
        "id": "CqLJpiy2E922"
      },
      "source": [
        "# 1: Limpeza e Tratamento de Valores Nulos"
      ]
    },
    {
      "cell_type": "code",
      "execution_count": 42,
      "id": "b4e58165",
      "metadata": {
        "colab": {
          "base_uri": "https://localhost:8080/"
        },
        "id": "b4e58165",
        "outputId": "875ea064-4292-4197-d9e8-0aa0f3e4377b"
      },
      "outputs": [
        {
          "name": "stdout",
          "output_type": "stream",
          "text": [
            "--- Contagem de Nulos Antes do Tratamento ---\n",
            "Age                   0\n",
            "Sex                   0\n",
            "Job                   0\n",
            "Housing               0\n",
            "Saving accounts     183\n",
            "Checking account    394\n",
            "Credit amount         0\n",
            "Duration              0\n",
            "Purpose               0\n",
            "Risk                  0\n",
            "dtype: int64\n",
            "\n",
            "--- Contagem de Nulos Após o Tratamento ---\n",
            "Age                 0\n",
            "Sex                 0\n",
            "Job                 0\n",
            "Housing             0\n",
            "Saving accounts     0\n",
            "Checking account    0\n",
            "Credit amount       0\n",
            "Duration            0\n",
            "Purpose             0\n",
            "Risk                0\n",
            "dtype: int64\n"
          ]
        },
        {
          "name": "stderr",
          "output_type": "stream",
          "text": [
            "/tmp/ipython-input-42-3341070601.py:12: FutureWarning: A value is trying to be set on a copy of a DataFrame or Series through chained assignment using an inplace method.\n",
            "The behavior will change in pandas 3.0. This inplace method will never work because the intermediate object on which we are setting values always behaves as a copy.\n",
            "\n",
            "For example, when doing 'df[col].method(value, inplace=True)', try using 'df.method({col: value}, inplace=True)' or df[col] = df[col].method(value) instead, to perform the operation inplace on the original object.\n",
            "\n",
            "\n",
            "  df_credit[col].fillna(mode_val, inplace=True)\n"
          ]
        }
      ],
      "source": [
        "if 'Unnamed: 0' in df_credit.columns:\n",
        "    df_credit = df_credit.drop('Unnamed: 0', axis=1)\n",
        "\n",
        "print(\"--- Contagem de Nulos Antes do Tratamento ---\")\n",
        "print(df_credit.isnull().sum())\n",
        "\n",
        "cols_to_fill = ['Saving accounts', 'Checking account']\n",
        "for col in cols_to_fill:\n",
        "    if col in df_credit.columns:\n",
        "        if df_credit[col].isnull().any():\n",
        "            mode_val = df_credit[col].mode()[0]\n",
        "            df_credit[col].fillna(mode_val, inplace=True)\n",
        "\n",
        "print(\"\\n\" + \"--- Contagem de Nulos Após o Tratamento ---\")\n",
        "print(df_credit.isnull().sum())"
      ]
    },
    {
      "cell_type": "code",
      "execution_count": 43,
      "id": "d44d236f",
      "metadata": {
        "id": "d44d236f"
      },
      "outputs": [],
      "source": [
        "credit_test = X_test.copy()\n",
        "credit_test['Risk'] = y_test\n",
        "credit_test.to_csv('credit_test.csv', index=False)"
      ]
    },
    {
      "cell_type": "markdown",
      "id": "1c6a53f0",
      "metadata": {
        "id": "1c6a53f0"
      },
      "source": [
        "⭕ Tratamento dos Dados (cont.)\n",
        "\n",
        "* Crie as variáveis dummy para as features categóricas (com eliminação de multicolinearidade)\n",
        "* Normalize (ajuste a escala) das features numéricas\n",
        "* Aplique label encoding na variável target"
      ]
    },
    {
      "cell_type": "markdown",
      "id": "FY9UywTuFJ7W",
      "metadata": {
        "id": "FY9UywTuFJ7W"
      },
      "source": [
        "# 2: Criação de Dummies e Label Encoding"
      ]
    },
    {
      "cell_type": "code",
      "execution_count": 44,
      "id": "xAOIT4qXD1Ze",
      "metadata": {
        "colab": {
          "base_uri": "https://localhost:8080/"
        },
        "id": "xAOIT4qXD1Ze",
        "outputId": "dc6405db-1b5c-4326-f184-a1d85c67f451"
      },
      "outputs": [
        {
          "name": "stdout",
          "output_type": "stream",
          "text": [
            "--- Dimensões após a criação de Dummies ---\n",
            "Dimensões de X: (1000, 21)\n",
            "Dimensões de y: (1000,)\n"
          ]
        }
      ],
      "source": [
        "X = df_credit.drop('Risk', axis=1)\n",
        "y = df_credit['Risk']\n",
        "categorical_features = ['Sex', 'Job', 'Housing', 'Saving accounts', 'Checking account', 'Purpose']\n",
        "X = pd.get_dummies(X, columns=categorical_features, drop_first=True, dtype=float)\n",
        "le = LabelEncoder()\n",
        "y = le.fit_transform(y)\n",
        "\n",
        "print(\"--- Dimensões após a criação de Dummies ---\")\n",
        "print(\"Dimensões de X:\", X.shape)\n",
        "print(\"Dimensões de y:\", y.shape)"
      ]
    },
    {
      "cell_type": "markdown",
      "id": "OZkwFni6FQvu",
      "metadata": {
        "id": "OZkwFni6FQvu"
      },
      "source": [
        "# 3: Divisão em Treino e Teste"
      ]
    },
    {
      "cell_type": "code",
      "execution_count": 45,
      "id": "8HP72Sk1EQUG",
      "metadata": {
        "colab": {
          "base_uri": "https://localhost:8080/"
        },
        "id": "8HP72Sk1EQUG",
        "outputId": "3e455bd6-e3c4-46e7-c7e5-872923f17455"
      },
      "outputs": [
        {
          "name": "stdout",
          "output_type": "stream",
          "text": [
            "--- Dimensões dos Conjuntos de Treino e Teste ---\n",
            "X_train: (700, 21)\n",
            "y_train: (700,)\n",
            "X_test: (300, 21)\n",
            "y_test: (300,)\n"
          ]
        }
      ],
      "source": [
        "X_train, X_test, y_train, y_test = train_test_split(X, y, test_size=0.3, random_state=42, stratify=y)\n",
        "print(\"--- Dimensões dos Conjuntos de Treino e Teste ---\")\n",
        "print(\"X_train:\", X_train.shape)\n",
        "print(\"y_train:\", y_train.shape)\n",
        "print(\"X_test:\", X_test.shape)\n",
        "print(\"y_test:\", y_test.shape)"
      ]
    },
    {
      "cell_type": "markdown",
      "id": "BrlTAK5UFUp2",
      "metadata": {
        "id": "BrlTAK5UFUp2"
      },
      "source": [
        "# 4: Normalização"
      ]
    },
    {
      "cell_type": "code",
      "execution_count": 46,
      "id": "tVR3bkHXESz1",
      "metadata": {
        "colab": {
          "base_uri": "https://localhost:8080/"
        },
        "id": "tVR3bkHXESz1",
        "outputId": "fef520e4-d6ad-422c-af72-4747725dd34a"
      },
      "outputs": [
        {
          "name": "stdout",
          "output_type": "stream",
          "text": [
            "--- 5 primeiras linhas do X_train após Normalização ---\n",
            "          Age  Credit amount  Duration  Sex_male  Job_1  Job_2  Job_3  \\\n",
            "328  0.200000       0.232365  0.470588       1.0    0.0    1.0    0.0   \n",
            "891  0.472727       0.086882  0.161765       1.0    0.0    1.0    0.0   \n",
            "255  0.127273       0.394410  0.823529       1.0    1.0    0.0    0.0   \n",
            "243  0.127273       0.051447  0.117647       0.0    0.0    1.0    0.0   \n",
            "492  0.127273       0.054308  0.029412       0.0    0.0    1.0    0.0   \n",
            "\n",
            "     Housing_own  Housing_rent  Saving accounts_moderate  ...  \\\n",
            "328          1.0           0.0                       0.0  ...   \n",
            "891          1.0           0.0                       0.0  ...   \n",
            "255          1.0           0.0                       0.0  ...   \n",
            "243          1.0           0.0                       0.0  ...   \n",
            "492          1.0           0.0                       1.0  ...   \n",
            "\n",
            "     Saving accounts_rich  Checking account_moderate  Checking account_rich  \\\n",
            "328                   0.0                        0.0                    1.0   \n",
            "891                   0.0                        0.0                    0.0   \n",
            "255                   0.0                        1.0                    0.0   \n",
            "243                   0.0                        0.0                    0.0   \n",
            "492                   0.0                        0.0                    0.0   \n",
            "\n",
            "     Purpose_car  Purpose_domestic appliances  Purpose_education  \\\n",
            "328          0.0                          0.0                0.0   \n",
            "891          0.0                          0.0                0.0   \n",
            "255          0.0                          0.0                0.0   \n",
            "243          0.0                          0.0                0.0   \n",
            "492          0.0                          0.0                0.0   \n",
            "\n",
            "     Purpose_furniture/equipment  Purpose_radio/TV  Purpose_repairs  \\\n",
            "328                          0.0               1.0              0.0   \n",
            "891                          0.0               1.0              0.0   \n",
            "255                          0.0               1.0              0.0   \n",
            "243                          0.0               0.0              0.0   \n",
            "492                          0.0               1.0              0.0   \n",
            "\n",
            "     Purpose_vacation/others  \n",
            "328                      0.0  \n",
            "891                      0.0  \n",
            "255                      0.0  \n",
            "243                      0.0  \n",
            "492                      0.0  \n",
            "\n",
            "[5 rows x 21 columns]\n"
          ]
        }
      ],
      "source": [
        "numerical_features = ['Age', 'Credit amount', 'Duration']\n",
        "scaler = MinMaxScaler()\n",
        "X_train[numerical_features] = scaler.fit_transform(X_train[numerical_features])\n",
        "X_test[numerical_features] = scaler.transform(X_test[numerical_features])\n",
        "\n",
        "print(\"--- 5 primeiras linhas do X_train após Normalização ---\")\n",
        "print(X_train.head())"
      ]
    },
    {
      "cell_type": "markdown",
      "id": "8kRymVMeFba_",
      "metadata": {
        "id": "8kRymVMeFba_"
      },
      "source": [
        "# 5: Gravando os dataframes finais"
      ]
    },
    {
      "cell_type": "code",
      "execution_count": 47,
      "id": "V2ENJxZuEXWG",
      "metadata": {
        "colab": {
          "base_uri": "https://localhost:8080/"
        },
        "id": "V2ENJxZuEXWG",
        "outputId": "61cd5bbf-03c9-4a0f-d1f4-c227c11890b3"
      },
      "outputs": [
        {
          "name": "stdout",
          "output_type": "stream",
          "text": [
            "--- Status Final ---\n",
            "Arquivo 'credit_train.csv' criado com sucesso.\n",
            "Dimensões de credit_train: (700, 22)\n",
            "\n",
            "Arquivo 'credit_test.csv' criado com sucesso.\n",
            "Dimensões de credit_test: (300, 22)\n",
            "\n",
            "--- 5 primeiras linhas de credit_train.csv ---\n",
            "          Age  Credit amount  Duration  Sex_male  Job_1  Job_2  Job_3  \\\n",
            "328  0.200000       0.232365  0.470588       1.0    0.0    1.0    0.0   \n",
            "891  0.472727       0.086882  0.161765       1.0    0.0    1.0    0.0   \n",
            "255  0.127273       0.394410  0.823529       1.0    1.0    0.0    0.0   \n",
            "243  0.127273       0.051447  0.117647       0.0    0.0    1.0    0.0   \n",
            "492  0.127273       0.054308  0.029412       0.0    0.0    1.0    0.0   \n",
            "\n",
            "     Housing_own  Housing_rent  Saving accounts_moderate  ...  \\\n",
            "328          1.0           0.0                       0.0  ...   \n",
            "891          1.0           0.0                       0.0  ...   \n",
            "255          1.0           0.0                       0.0  ...   \n",
            "243          1.0           0.0                       0.0  ...   \n",
            "492          1.0           0.0                       1.0  ...   \n",
            "\n",
            "     Checking account_moderate  Checking account_rich  Purpose_car  \\\n",
            "328                        0.0                    1.0          0.0   \n",
            "891                        0.0                    0.0          0.0   \n",
            "255                        1.0                    0.0          0.0   \n",
            "243                        0.0                    0.0          0.0   \n",
            "492                        0.0                    0.0          0.0   \n",
            "\n",
            "     Purpose_domestic appliances  Purpose_education  \\\n",
            "328                          0.0                0.0   \n",
            "891                          0.0                0.0   \n",
            "255                          0.0                0.0   \n",
            "243                          0.0                0.0   \n",
            "492                          0.0                0.0   \n",
            "\n",
            "     Purpose_furniture/equipment  Purpose_radio/TV  Purpose_repairs  \\\n",
            "328                          0.0               1.0              0.0   \n",
            "891                          0.0               1.0              0.0   \n",
            "255                          0.0               1.0              0.0   \n",
            "243                          0.0               0.0              0.0   \n",
            "492                          0.0               1.0              0.0   \n",
            "\n",
            "     Purpose_vacation/others  Risk  \n",
            "328                      0.0     1  \n",
            "891                      0.0     1  \n",
            "255                      0.0     1  \n",
            "243                      0.0     1  \n",
            "492                      0.0     1  \n",
            "\n",
            "[5 rows x 22 columns]\n"
          ]
        }
      ],
      "source": [
        "credit_train = pd.concat([X_train, pd.DataFrame(y_train, columns=['Risk'], index=X_train.index)], axis=1)\n",
        "credit_train.to_csv('credit_train.csv', index=False)\n",
        "\n",
        "credit_test = pd.concat([X_test, pd.DataFrame(y_test, columns=['Risk'], index=X_test.index)], axis=1)\n",
        "credit_test.to_csv('credit_test.csv', index=False)\n",
        "\n",
        "print(\"--- Status Final ---\")\n",
        "print(\"Arquivo 'credit_train.csv' criado com sucesso.\")\n",
        "print(\"Dimensões de credit_train:\", credit_train.shape)\n",
        "print(\"\\n\" + \"Arquivo 'credit_test.csv' criado com sucesso.\")\n",
        "print(\"Dimensões de credit_test:\", credit_test.shape)\n",
        "print(\"\\n\" + \"--- 5 primeiras linhas de credit_train.csv ---\")\n",
        "print(credit_train.head())"
      ]
    },
    {
      "cell_type": "markdown",
      "id": "sgVubF7pF0gO",
      "metadata": {
        "id": "sgVubF7pF0gO"
      },
      "source": [
        "# 6: Calcular as Proporções com Código"
      ]
    },
    {
      "cell_type": "code",
      "execution_count": 48,
      "id": "v-geas_qFw8-",
      "metadata": {
        "colab": {
          "base_uri": "https://localhost:8080/"
        },
        "id": "v-geas_qFw8-",
        "outputId": "c90af877-263f-43f4-ec5b-742aa5c38645"
      },
      "outputs": [
        {
          "name": "stdout",
          "output_type": "stream",
          "text": [
            "Tamanho total do dataset: 1000 amostras.\n",
            "Tamanho do conjunto de treino: 700 amostras.\n",
            "Tamanho do conjunto de teste: 300 amostras.\n",
            "------------------------------\n",
            "Porcentagem usada para treino: 70.0%\n",
            "Porcentagem usada para teste: 30.0%\n"
          ]
        }
      ],
      "source": [
        "total_size = len(df_credit)\n",
        "\n",
        "train_size = len(X_train)\n",
        "test_size = len(X_test)\n",
        "\n",
        "train_percent = (train_size / total_size) * 100\n",
        "test_percent = (test_size / total_size) * 100\n",
        "\n",
        "print(f\"Tamanho total do dataset: {total_size} amostras.\")\n",
        "print(f\"Tamanho do conjunto de treino: {train_size} amostras.\")\n",
        "print(f\"Tamanho do conjunto de teste: {test_size} amostras.\")\n",
        "print(\"-\" * 30)\n",
        "print(f\"Porcentagem usada para treino: {train_percent:.1f}%\")\n",
        "print(f\"Porcentagem usada para teste: {test_percent:.1f}%\")"
      ]
    }
  ],
  "metadata": {
    "colab": {
      "provenance": []
    },
    "kernelspec": {
      "display_name": "Python 3",
      "name": "python3"
    },
    "language_info": {
      "codemirror_mode": {
        "name": "ipython",
        "version": 3
      },
      "file_extension": ".py",
      "mimetype": "text/x-python",
      "name": "python",
      "nbconvert_exporter": "python",
      "pygments_lexer": "ipython3",
      "version": "3.12.7"
    }
  },
  "nbformat": 4,
  "nbformat_minor": 5
}
