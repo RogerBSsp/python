{
 "cells": [
  {
   "cell_type": "markdown",
   "metadata": {},
   "source": [
    "# **Classificador Naive Bayes**\n",
    "\n",
    "## Disciplina: Inteligência Artificial e Aplicações\n",
    "## FATEC Ferraz de Vasconcelos\n",
    "### Professora: Ana Rosa C. Tonão\n",
    "#### Data: 23/06/2025"
   ]
  },
  {
   "cell_type": "markdown",
   "metadata": {
    "id": "4kLYGlspjaTj"
   },
   "source": [
    "\n",
    "\n",
    "---\n",
    "\n",
    "\n",
    "### **Adaptado de:**\n",
    "\n",
    "ARTASANCHEZ, A; JOSHI, P. **Artificial Intelligence with Python: Your complete guide to building intelligent apps using Python 3.x.** Packt Publishing, 2017.\n",
    "\n",
    "\n",
    "---\n",
    "\n",
    "\n",
    "\n",
    "\n",
    "\n",
    "\n"
   ]
  },
  {
   "cell_type": "markdown",
   "metadata": {
    "id": "_U5sxYkx-0jL"
   },
   "source": [
    "### Preparando o ambiente de execução"
   ]
  },
  {
   "cell_type": "code",
   "execution_count": null,
   "metadata": {
    "colab": {
     "base_uri": "https://localhost:8080/"
    },
    "executionInfo": {
     "elapsed": 17561,
     "status": "ok",
     "timestamp": 1699045818250,
     "user": {
      "displayName": "Ana Tonão",
      "userId": "09484163921944816346"
     },
     "user_tz": 180
    },
    "id": "OtjuaXfI1Hj4",
    "outputId": "297ffd14-c7c5-403b-bbfa-06e2be131e9f"
   },
   "outputs": [],
   "source": [
    "import os\n",
    "os.chdir('C:\\\\Code\\\\ML\\\\Dados')\n",
    "os.getcwd()"
   ]
  },
  {
   "cell_type": "markdown",
   "metadata": {
    "id": "XRAiT7k5jaTn",
    "tags": []
   },
   "source": [
    "### Importando as bibliotecas necessárias\n"
   ]
  },
  {
   "cell_type": "code",
   "execution_count": null,
   "metadata": {
    "executionInfo": {
     "elapsed": 1756,
     "status": "ok",
     "timestamp": 1699045828079,
     "user": {
      "displayName": "Ana Tonão",
      "userId": "09484163921944816346"
     },
     "user_tz": 180
    },
    "id": "_eyu_-SFEBtO"
   },
   "outputs": [],
   "source": [
    "import numpy as np\n",
    "import pandas as pd\n",
    "import matplotlib.pyplot as plt\n",
    "import seaborn as sns\n",
    "from sklearn.naive_bayes import GaussianNB\n",
    "from sklearn.model_selection import train_test_split\n",
    "from sklearn.model_selection import cross_val_score\n",
    "from sklearn.metrics import confusion_matrix\n",
    "from sklearn.metrics import classification_report\n",
    "from sklearn.metrics import roc_curve, roc_auc_score"
   ]
  },
  {
   "cell_type": "markdown",
   "metadata": {
    "id": "Q89v0_MJ_Ki0"
   },
   "source": [
    "### Vamos usar o arquivo data_multivar_nb.txt como dados de origem:"
   ]
  },
  {
   "cell_type": "code",
   "execution_count": null,
   "metadata": {
    "executionInfo": {
     "elapsed": 239,
     "status": "ok",
     "timestamp": 1699046436679,
     "user": {
      "displayName": "Ana Tonão",
      "userId": "09484163921944816346"
     },
     "user_tz": 180
    },
    "id": "TSt5FWOO1LpH"
   },
   "outputs": [],
   "source": [
    "dados = np.loadtxt(\"data_multivar_nb.txt\", delimiter=\",\")"
   ]
  },
  {
   "cell_type": "code",
   "execution_count": null,
   "metadata": {
    "colab": {
     "base_uri": "https://localhost:8080/"
    },
    "executionInfo": {
     "elapsed": 285,
     "status": "ok",
     "timestamp": 1699046439133,
     "user": {
      "displayName": "Ana Tonão",
      "userId": "09484163921944816346"
     },
     "user_tz": 180
    },
    "id": "fxkTWONEAHzR",
    "outputId": "509d025f-cd37-4ea4-90fd-546c94d7fb4e"
   },
   "outputs": [],
   "source": [
    "dados"
   ]
  },
  {
   "cell_type": "code",
   "execution_count": null,
   "metadata": {
    "executionInfo": {
     "elapsed": 275,
     "status": "ok",
     "timestamp": 1699046443053,
     "user": {
      "displayName": "Ana Tonão",
      "userId": "09484163921944816346"
     },
     "user_tz": 180
    },
    "id": "qWnn6_lPGZ6H"
   },
   "outputs": [],
   "source": [
    "X, y = dados[:, :-1], dados[:, -1]"
   ]
  },
  {
   "cell_type": "code",
   "execution_count": null,
   "metadata": {},
   "outputs": [],
   "source": [
    "true_labels = y"
   ]
  },
  {
   "cell_type": "code",
   "execution_count": null,
   "metadata": {},
   "outputs": [],
   "source": [
    "X"
   ]
  },
  {
   "cell_type": "code",
   "execution_count": null,
   "metadata": {},
   "outputs": [],
   "source": [
    "y"
   ]
  },
  {
   "cell_type": "markdown",
   "metadata": {},
   "source": [
    "## **Construindo um Classificador Naïve Bayes**"
   ]
  },
  {
   "cell_type": "code",
   "execution_count": null,
   "metadata": {
    "executionInfo": {
     "elapsed": 254,
     "status": "ok",
     "timestamp": 1699046445806,
     "user": {
      "displayName": "Ana Tonão",
      "userId": "09484163921944816346"
     },
     "user_tz": 180
    },
    "id": "MQqlwk2eCmo9"
   },
   "outputs": [],
   "source": [
    "# Criando o classificador Naive Bayes\n",
    "# Crie uma instância do classificador Naïve Bayes. \n",
    "classifier = GaussianNB()"
   ]
  },
  {
   "cell_type": "code",
   "execution_count": null,
   "metadata": {
    "colab": {
     "base_uri": "https://localhost:8080/",
     "height": 74
    },
    "executionInfo": {
     "elapsed": 381,
     "status": "ok",
     "timestamp": 1699046447444,
     "user": {
      "displayName": "Ana Tonão",
      "userId": "09484163921944816346"
     },
     "user_tz": 180
    },
    "id": "liTT9zYJCpoy",
    "outputId": "55631504-43da-4297-b3e2-13cc57a95cb3"
   },
   "outputs": [],
   "source": [
    "# Treinando o classificador\n",
    "# Treine o classificador usando os dados de treinamento:\n",
    "classifier.fit(X, y)"
   ]
  },
  {
   "cell_type": "code",
   "execution_count": null,
   "metadata": {
    "executionInfo": {
     "elapsed": 270,
     "status": "ok",
     "timestamp": 1699046449617,
     "user": {
      "displayName": "Ana Tonão",
      "userId": "09484163921944816346"
     },
     "user_tz": 180
    },
    "id": "vqcwm5zbCsr5"
   },
   "outputs": [],
   "source": [
    "# Predict the values for training data\n",
    "# Execute o classificador nos dados de treinamento para realizar a previsão das saídas:\n",
    "y_pred = classifier.predict(X)"
   ]
  },
  {
   "cell_type": "markdown",
   "metadata": {},
   "source": [
    "## **Avaliando o desempenho do classificador**\n",
    "\n",
    "Vamos calcular a precisão do classificador comparando os valores previstos com os rótulos verdadeiros e, em seguida, visualizar o desempenho:"
   ]
  },
  {
   "cell_type": "code",
   "execution_count": null,
   "metadata": {
    "colab": {
     "base_uri": "https://localhost:8080/"
    },
    "executionInfo": {
     "elapsed": 245,
     "status": "ok",
     "timestamp": 1699046451836,
     "user": {
      "displayName": "Ana Tonão",
      "userId": "09484163921944816346"
     },
     "user_tz": 180
    },
    "id": "A9bJyrECCxCF",
    "outputId": "9eb613c1-5ab8-427b-aaa6-98f0d09ff8bc"
   },
   "outputs": [],
   "source": [
    "# Calculando a acurácia\n",
    "accuracy = 100.0 * (y == y_pred).sum() / X.shape[0]\n",
    "print(\"Accuracy of Naive Bayes classifier =\", round(accuracy, 2), \"%\")"
   ]
  },
  {
   "cell_type": "code",
   "execution_count": null,
   "metadata": {},
   "outputs": [],
   "source": [
    "# Criar a matriz de confusão\n",
    "confusion_mat = confusion_matrix(true_labels, y_pred)"
   ]
  },
  {
   "cell_type": "code",
   "execution_count": null,
   "metadata": {},
   "outputs": [],
   "source": [
    "# Classification report\n",
    "targets = ['Class-0', 'Class-1', 'Class-2', 'Class-3']\n",
    "print('\\n', classification_report(true_labels, y_pred, target_names=targets))"
   ]
  },
  {
   "cell_type": "code",
   "execution_count": null,
   "metadata": {},
   "outputs": [],
   "source": [
    "# Adicionar após a criação da confusion_mat\n",
    "sns.heatmap(confusion_mat, annot=True, fmt='d', cmap='Blues',\n",
    "            xticklabels=['Previsto:0', 'Previsto:1', 'Previsto:2', 'Previsto:3'],\n",
    "            yticklabels=['Real: 0', 'Real: 1', 'Real:2', 'Real:3'])\n",
    "plt.ylabel('Valor Real')\n",
    "plt.xlabel('Valor Previsto')\n",
    "plt.title('Matriz de Confusão')\n",
    "plt.show()\n"
   ]
  },
  {
   "cell_type": "markdown",
   "metadata": {
    "id": "enb62eMeD_Em"
   },
   "source": [
    "## **Utilizando Validação Cruzada**"
   ]
  },
  {
   "cell_type": "markdown",
   "metadata": {},
   "source": [
    "### *Vamos aplicar  a validação cruzada, para não usarmos os mesmos dados de treinamento quando os testarmos.*\n",
    "\n",
    "Divida os dados em subconjuntos de treinamento e teste. \n",
    "\n",
    "Conforme especificado pelo parâmetro test_size na linha a seguir, alocaremos 80% para treinamento e os 20% restantes para teste. "
   ]
  },
  {
   "cell_type": "code",
   "execution_count": null,
   "metadata": {
    "executionInfo": {
     "elapsed": 249,
     "status": "ok",
     "timestamp": 1699046636452,
     "user": {
      "displayName": "Ana Tonão",
      "userId": "09484163921944816346"
     },
     "user_tz": 180
    },
    "id": "uOVKRaMXEEWd"
   },
   "outputs": [],
   "source": [
    "# Separando os dados em dados de treino e dados de teste\n",
    "X_train, X_test, y_train, y_test = train_test_split(X, y, test_size=0.2, random_state=3)\n",
    "classifier_new = GaussianNB()\n",
    "classifier_new.fit(X_train, y_train)\n",
    "y_test_pred = classifier_new.predict(X_test)"
   ]
  },
  {
   "cell_type": "code",
   "execution_count": null,
   "metadata": {
    "colab": {
     "base_uri": "https://localhost:8080/"
    },
    "executionInfo": {
     "elapsed": 5,
     "status": "ok",
     "timestamp": 1699046639351,
     "user": {
      "displayName": "Ana Tonão",
      "userId": "09484163921944816346"
     },
     "user_tz": 180
    },
    "id": "vvQL3JsaEGrZ",
    "outputId": "c73d3723-8756-47af-e3e5-3e84f70011cf"
   },
   "outputs": [],
   "source": [
    "# Calculando a acurácia do classificador\n",
    "accuracy = 100.0 * (y_test == y_test_pred).sum() / X_test.shape[0]\n",
    "print(\"Accuracy of the new classifier =\", round(accuracy, 2), \"%\")"
   ]
  },
  {
   "cell_type": "markdown",
   "metadata": {
    "id": "RANocmdiEQQF"
   },
   "source": [
    "## **Verificando a performance dos classificadores**\n",
    "\n",
    "Vamos usar as funções *inbuilt* para calcular os valores de acurácia, precisão e recall com base na validação cruzada tripla:\n"
   ]
  },
  {
   "cell_type": "code",
   "execution_count": null,
   "metadata": {
    "colab": {
     "base_uri": "https://localhost:8080/"
    },
    "executionInfo": {
     "elapsed": 234,
     "status": "ok",
     "timestamp": 1699046651241,
     "user": {
      "displayName": "Ana Tonão",
      "userId": "09484163921944816346"
     },
     "user_tz": 180
    },
    "id": "Y8fJ8q15EX3x",
    "outputId": "2f99dbbf-993f-4b2d-a43a-ba9f16f4004d"
   },
   "outputs": [],
   "source": [
    "# Scoring functions\n",
    "num_folds = 3"
   ]
  },
  {
   "cell_type": "code",
   "execution_count": null,
   "metadata": {},
   "outputs": [],
   "source": [
    "accuracy_values = cross_val_score(classifier,\n",
    "        X, y, scoring='accuracy', cv=num_folds)\n",
    "print(\"Accuracy: \" + str(round(100*accuracy_values.mean(), 2)) + \"%\")"
   ]
  },
  {
   "cell_type": "code",
   "execution_count": null,
   "metadata": {
    "colab": {
     "base_uri": "https://localhost:8080/"
    },
    "executionInfo": {
     "elapsed": 266,
     "status": "ok",
     "timestamp": 1699046654142,
     "user": {
      "displayName": "Ana Tonão",
      "userId": "09484163921944816346"
     },
     "user_tz": 180
    },
    "id": "XOdf8lq8EcHx",
    "outputId": "f2c703ad-b3ac-4e4d-c12d-ffbb24d726c8"
   },
   "outputs": [],
   "source": [
    "precision_values = cross_val_score(classifier,\n",
    "        X, y, scoring='precision_weighted', cv=num_folds)\n",
    "print(\"Precision: \" + str(round(100*precision_values.mean(), 2)) + \"%\")"
   ]
  },
  {
   "cell_type": "code",
   "execution_count": null,
   "metadata": {
    "colab": {
     "base_uri": "https://localhost:8080/"
    },
    "executionInfo": {
     "elapsed": 229,
     "status": "ok",
     "timestamp": 1699046657054,
     "user": {
      "displayName": "Ana Tonão",
      "userId": "09484163921944816346"
     },
     "user_tz": 180
    },
    "id": "iszWfp1OEeVd",
    "outputId": "b3797409-f695-484b-ebda-7f906798e27e"
   },
   "outputs": [],
   "source": [
    "recall_values = cross_val_score(classifier,\n",
    "        X, y, scoring='recall_weighted', cv=num_folds)\n",
    "print(\"Recall: \" + str(round(100*recall_values.mean(), 2)) + \"%\")"
   ]
  },
  {
   "cell_type": "code",
   "execution_count": null,
   "metadata": {
    "colab": {
     "base_uri": "https://localhost:8080/"
    },
    "executionInfo": {
     "elapsed": 272,
     "status": "ok",
     "timestamp": 1699046659299,
     "user": {
      "displayName": "Ana Tonão",
      "userId": "09484163921944816346"
     },
     "user_tz": 180
    },
    "id": "uZUwce3MEgH6",
    "outputId": "0e62b27a-738a-455a-8bdd-2645e65fbc64"
   },
   "outputs": [],
   "source": [
    "f1_values = cross_val_score(classifier,\n",
    "        X, y, scoring='f1_weighted', cv=num_folds)\n",
    "print(\"F1: \" + str(round(100*f1_values.mean(), 2)) + \"%\")"
   ]
  },
  {
   "cell_type": "markdown",
   "metadata": {},
   "source": [
    "## *FIM*"
   ]
  }
 ],
 "metadata": {
  "colab": {
   "authorship_tag": "ABX9TyMRvIptURQIiU603KvUgYMU",
   "provenance": []
  },
  "kernelspec": {
   "display_name": "Python 3",
   "name": "python3"
  },
  "language_info": {
   "codemirror_mode": {
    "name": "ipython",
    "version": 3
   },
   "file_extension": ".py",
   "mimetype": "text/x-python",
   "name": "python",
   "nbconvert_exporter": "python",
   "pygments_lexer": "ipython3",
   "version": "3.12.2"
  }
 },
 "nbformat": 4,
 "nbformat_minor": 0
}
